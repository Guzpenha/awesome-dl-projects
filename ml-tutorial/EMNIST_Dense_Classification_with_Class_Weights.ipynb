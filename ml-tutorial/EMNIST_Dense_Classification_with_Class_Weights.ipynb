{
  "nbformat": 4,
  "nbformat_minor": 0,
  "metadata": {
    "colab": {
      "name": "EMNIST Dense Classification with Class Weights",
      "provenance": [],
      "toc_visible": true,
      "include_colab_link": true
    },
    "kernelspec": {
      "name": "python3",
      "display_name": "Python 3"
    },
    "accelerator": "GPU"
  },
  "cells": [
    {
      "cell_type": "markdown",
      "metadata": {
        "id": "view-in-github",
        "colab_type": "text"
      },
      "source": [
        "<a href=\"https://colab.research.google.com/github/wandb/awesome-dl-projects/blob/master/ml-tutorial/EMNIST_Dense_Classification_with_Class_Weights.ipynb\" target=\"_parent\"><img src=\"https://colab.research.google.com/assets/colab-badge.svg\" alt=\"Open In Colab\"/></a>"
      ]
    },
    {
      "cell_type": "markdown",
      "metadata": {
        "id": "LHCCGutqrj-r",
        "colab_type": "text"
      },
      "source": [
        "# Imports and Setups"
      ]
    },
    {
      "cell_type": "code",
      "metadata": {
        "id": "qiFYfrVpXbAP",
        "colab_type": "code",
        "colab": {
          "base_uri": "https://localhost:8080/",
          "height": 391
        },
        "outputId": "0950b546-e207-4480-ea6b-09f9019651c6"
      },
      "source": [
        "!nvidia-smi"
      ],
      "execution_count": 1,
      "outputs": [
        {
          "output_type": "stream",
          "text": [
            "Wed Aug 26 13:10:45 2020       \n",
            "+-----------------------------------------------------------------------------+\n",
            "| NVIDIA-SMI 450.57       Driver Version: 418.67       CUDA Version: 10.1     |\n",
            "|-------------------------------+----------------------+----------------------+\n",
            "| GPU  Name        Persistence-M| Bus-Id        Disp.A | Volatile Uncorr. ECC |\n",
            "| Fan  Temp  Perf  Pwr:Usage/Cap|         Memory-Usage | GPU-Util  Compute M. |\n",
            "|                               |                      |               MIG M. |\n",
            "|===============================+======================+======================|\n",
            "|   0  Tesla K80           Off  | 00000000:00:04.0 Off |                    0 |\n",
            "| N/A   33C    P8    29W / 149W |      0MiB / 11441MiB |      0%      Default |\n",
            "|                               |                      |                 ERR! |\n",
            "+-------------------------------+----------------------+----------------------+\n",
            "                                                                               \n",
            "+-----------------------------------------------------------------------------+\n",
            "| Processes:                                                                  |\n",
            "|  GPU   GI   CI        PID   Type   Process name                  GPU Memory |\n",
            "|        ID   ID                                                   Usage      |\n",
            "|=============================================================================|\n",
            "|  No running processes found                                                 |\n",
            "+-----------------------------------------------------------------------------+\n"
          ],
          "name": "stdout"
        }
      ]
    },
    {
      "cell_type": "code",
      "metadata": {
        "id": "WwZMe8Ey0LYE",
        "colab_type": "code",
        "colab": {
          "base_uri": "https://localhost:8080/",
          "height": 36
        },
        "outputId": "e4af1cd7-743a-49f5-dd36-ee136ee083a5"
      },
      "source": [
        "import tensorflow as tf\n",
        "print(tf.__version__)\n",
        "\n",
        "from tensorflow.keras.layers import *\n",
        "from tensorflow.keras.models import *\n",
        "import tensorflow_datasets as tfds\n",
        "\n",
        "import numpy as np\n",
        "import matplotlib.pyplot as plt\n",
        "\n",
        "%matplotlib inline\n",
        "tfds.disable_progress_bar()\n",
        "\n",
        "import seaborn as sns\n",
        "from tqdm import tqdm\n",
        "from sklearn.metrics import confusion_matrix\n",
        "from sklearn.preprocessing import normalize\n",
        "from sklearn.utils import class_weight"
      ],
      "execution_count": 20,
      "outputs": [
        {
          "output_type": "stream",
          "text": [
            "2.3.0\n"
          ],
          "name": "stdout"
        }
      ]
    },
    {
      "cell_type": "code",
      "metadata": {
        "id": "HqUfAaLR7H4F",
        "colab_type": "code",
        "colab": {}
      },
      "source": [
        "%%capture\n",
        "!pip install wandb"
      ],
      "execution_count": 4,
      "outputs": []
    },
    {
      "cell_type": "code",
      "metadata": {
        "id": "3GeVDMnA7LOr",
        "colab_type": "code",
        "colab": {
          "base_uri": "https://localhost:8080/",
          "height": 72
        },
        "outputId": "e0357635-20f6-43f8-d04a-5cdd00d9c6b2"
      },
      "source": [
        "import wandb\n",
        "from wandb.keras import WandbCallback\n",
        "\n",
        "wandb.login()"
      ],
      "execution_count": 5,
      "outputs": [
        {
          "output_type": "display_data",
          "data": {
            "application/javascript": [
              "\n",
              "        window._wandbApiKey = new Promise((resolve, reject) => {\n",
              "            function loadScript(url) {\n",
              "            return new Promise(function(resolve, reject) {\n",
              "                let newScript = document.createElement(\"script\");\n",
              "                newScript.onerror = reject;\n",
              "                newScript.onload = resolve;\n",
              "                document.body.appendChild(newScript);\n",
              "                newScript.src = url;\n",
              "            });\n",
              "            }\n",
              "            loadScript(\"https://cdn.jsdelivr.net/npm/postmate/build/postmate.min.js\").then(() => {\n",
              "            const iframe = document.createElement('iframe')\n",
              "            iframe.style.cssText = \"width:0;height:0;border:none\"\n",
              "            document.body.appendChild(iframe)\n",
              "            const handshake = new Postmate({\n",
              "                container: iframe,\n",
              "                url: 'https://app.wandb.ai/authorize'\n",
              "            });\n",
              "            const timeout = setTimeout(() => reject(\"Couldn't auto authenticate\"), 5000)\n",
              "            handshake.then(function(child) {\n",
              "                child.on('authorize', data => {\n",
              "                    clearTimeout(timeout)\n",
              "                    resolve(data)\n",
              "                });\n",
              "            });\n",
              "            })\n",
              "        });\n",
              "    "
            ],
            "text/plain": [
              "<IPython.core.display.Javascript object>"
            ]
          },
          "metadata": {
            "tags": []
          }
        },
        {
          "output_type": "stream",
          "text": [
            "\u001b[34m\u001b[1mwandb\u001b[0m: Appending key for api.wandb.ai to your netrc file: /root/.netrc\n"
          ],
          "name": "stderr"
        },
        {
          "output_type": "execute_result",
          "data": {
            "text/plain": [
              "True"
            ]
          },
          "metadata": {
            "tags": []
          },
          "execution_count": 5
        }
      ]
    },
    {
      "cell_type": "markdown",
      "metadata": {
        "id": "M_C6x2qUrnSu",
        "colab_type": "text"
      },
      "source": [
        "# Download EMNIST and Minor Investigation\n",
        "\n",
        "Check out this [colab notebook]() for:\n",
        "* More on `EMNIST/bymerge` dataset\n",
        "* Class distribution\n",
        "\n",
        "Check out [this paper](https://arxiv.org/abs/1702.05373) for more on EMNIST."
      ]
    },
    {
      "cell_type": "code",
      "metadata": {
        "id": "T7KbDzcP0iXX",
        "colab_type": "code",
        "colab": {
          "base_uri": "https://localhost:8080/",
          "height": 149
        },
        "outputId": "7d1cdeb4-96a8-4d17-cc63-e2ed8abfa874"
      },
      "source": [
        "# Gather EMNIST/bymerge dataset\n",
        "train_ds, validation_ds = tfds.load(\n",
        "    \"emnist/bymerge\",\n",
        "    split=[\"train[:85%]\", \"train[85%:]\"],\n",
        "    as_supervised=True\n",
        ")"
      ],
      "execution_count": 6,
      "outputs": [
        {
          "output_type": "stream",
          "text": [
            "\u001b[1mDownloading and preparing dataset emnist/bymerge/3.0.0 (download: 535.73 MiB, generated: Unknown size, total: 535.73 MiB) to /root/tensorflow_datasets/emnist/bymerge/3.0.0...\u001b[0m\n"
          ],
          "name": "stdout"
        },
        {
          "output_type": "stream",
          "text": [
            "/usr/local/lib/python3.6/dist-packages/urllib3/connectionpool.py:847: InsecureRequestWarning: Unverified HTTPS request is being made. Adding certificate verification is strongly advised. See: https://urllib3.readthedocs.io/en/latest/advanced-usage.html#ssl-warnings\n",
            "  InsecureRequestWarning)\n"
          ],
          "name": "stderr"
        },
        {
          "output_type": "stream",
          "text": [
            "Shuffling and writing examples to /root/tensorflow_datasets/emnist/bymerge/3.0.0.incomplete4WHTWE/emnist-train.tfrecord\n",
            "Shuffling and writing examples to /root/tensorflow_datasets/emnist/bymerge/3.0.0.incomplete4WHTWE/emnist-test.tfrecord\n",
            "\u001b[1mDataset emnist downloaded and prepared to /root/tensorflow_datasets/emnist/bymerge/3.0.0. Subsequent calls will reuse this data.\u001b[0m\n"
          ],
          "name": "stdout"
        }
      ]
    },
    {
      "cell_type": "code",
      "metadata": {
        "id": "QfFWriVto6G3",
        "colab_type": "code",
        "colab": {
          "base_uri": "https://localhost:8080/",
          "height": 36
        },
        "outputId": "20acf895-674b-410f-89e6-b2cd55794c4e"
      },
      "source": [
        "LABELS = ['0', '1', '2', '3', '4', '5', '6', '7', '8', '9', \n",
        "          'A', 'B', 'C', 'D', 'E', 'F', 'G', 'H', 'I', 'J', 'K', 'L', 'M', 'N', 'O', 'P', 'Q', 'R', 'S', 'T', 'U', 'V', 'W', 'X', 'Y', 'Z',\n",
        "          'a', 'b', 'd', 'e', 'f', 'g', 'h', 'n', 'q', 'r', 't']\n",
        "\n",
        "print(len(LABELS))"
      ],
      "execution_count": 7,
      "outputs": [
        {
          "output_type": "stream",
          "text": [
            "47\n"
          ],
          "name": "stdout"
        }
      ]
    },
    {
      "cell_type": "markdown",
      "metadata": {
        "id": "6BNpPDFAruNE",
        "colab_type": "text"
      },
      "source": [
        "# Simple `tf.data` dataloader"
      ]
    },
    {
      "cell_type": "code",
      "metadata": {
        "id": "kFzES4Xa2DTA",
        "colab_type": "code",
        "colab": {}
      },
      "source": [
        "AUTO = tf.data.experimental.AUTOTUNE\n",
        "BATCH_SIZE = 256\n",
        "\n",
        "## We are transposing to rotate the image by 90 deg clockwise making the images human friendly.\n",
        "def transpose_and_flatten(image, label):\n",
        "  image = tf.image.convert_image_dtype(image, dtype=tf.float32) # scale image pixels to [0,1]\n",
        "  image = tf.transpose(image, [1,0,2]) # transpose to get human friendly image, since rotation\n",
        "  image = tf.reshape(image, shape=(784,)) # permutation invariant or flatten \n",
        "\n",
        "  label = tf.one_hot(label, depth=len(LABELS)) # one hot encode label\n",
        "\n",
        "  return image, label\n",
        "\n",
        "trainloader = (\n",
        "    train_ds\n",
        "    .shuffle(1024)\n",
        "    .map(transpose_and_flatten, num_parallel_calls=AUTO)\n",
        "    .batch(BATCH_SIZE)\n",
        "    .prefetch(AUTO)\n",
        ")\n",
        "\n",
        "testloader = (\n",
        "    validation_ds\n",
        "    .map(transpose_and_flatten, num_parallel_calls=AUTO)\n",
        "    .batch(BATCH_SIZE)\n",
        "    .prefetch(AUTO)\n",
        ")"
      ],
      "execution_count": 26,
      "outputs": []
    },
    {
      "cell_type": "markdown",
      "metadata": {
        "id": "0Il96w-6sCk9",
        "colab_type": "text"
      },
      "source": [
        "#### Quick Visualization\n",
        "(Run the cell below multiple times to visualize different images.)"
      ]
    },
    {
      "cell_type": "code",
      "metadata": {
        "id": "0ekU0Gj3kU4c",
        "colab_type": "code",
        "colab": {
          "base_uri": "https://localhost:8080/",
          "height": 591
        },
        "outputId": "37970f1c-4b98-4fc3-a461-c706cc915377"
      },
      "source": [
        "imgs, labels = next(iter(trainloader))\n",
        "\n",
        "plt.figure(figsize=(10, 10))\n",
        "for n in range(25):\n",
        "    ax = plt.subplot(5, 5, n+1)\n",
        "    plt.imshow(tf.reshape(imgs[n], shape=(28,28)), cmap='gray')\n",
        "    plt.title(LABELS[np.argmax(labels[n])])\n",
        "    plt.axis('off')"
      ],
      "execution_count": 28,
      "outputs": [
        {
          "output_type": "display_data",
          "data": {
            "image/png": "[encoded data removed]",
            "text/plain": [
              "<Figure size 720x720 with 25 Axes>"
            ]
          },
          "metadata": {
            "tags": [],
            "needs_background": "light"
          }
        }
      ]
    },
    {
      "cell_type": "markdown",
      "metadata": {
        "id": "dunhN6lbmjjy",
        "colab_type": "text"
      },
      "source": [
        "# Simple classifier"
      ]
    },
    {
      "cell_type": "markdown",
      "metadata": {
        "id": "YMkuvJKTm9dx",
        "colab_type": "text"
      },
      "source": [
        "#### Build Model"
      ]
    },
    {
      "cell_type": "code",
      "metadata": {
        "id": "d5l1tnXhmmxH",
        "colab_type": "code",
        "colab": {}
      },
      "source": [
        "def DenseModel():\n",
        "  inputs = Input(shape=(784,))\n",
        "  x = Dense(256, activation='relu')(inputs)\n",
        "  x = Dense(128, activation='relu')(x)\n",
        "  outputs = Dense(len(LABELS), activation='softmax')(x)\n",
        "\n",
        "  return Model(inputs=inputs, outputs=outputs)"
      ],
      "execution_count": 29,
      "outputs": []
    },
    {
      "cell_type": "code",
      "metadata": {
        "id": "xwR4wZ99SPcP",
        "colab_type": "code",
        "colab": {
          "base_uri": "https://localhost:8080/",
          "height": 316
        },
        "outputId": "e125cd38-c6f5-470b-c57e-5500d8ff00c7"
      },
      "source": [
        "tf.keras.backend.clear_session()\n",
        "model = DenseModel()\n",
        "model.summary()"
      ],
      "execution_count": 30,
      "outputs": [
        {
          "output_type": "stream",
          "text": [
            "Model: \"functional_1\"\n",
            "_________________________________________________________________\n",
            "Layer (type)                 Output Shape              Param #   \n",
            "=================================================================\n",
            "input_1 (InputLayer)         [(None, 784)]             0         \n",
            "_________________________________________________________________\n",
            "dense (Dense)                (None, 256)               200960    \n",
            "_________________________________________________________________\n",
            "dense_1 (Dense)              (None, 128)               32896     \n",
            "_________________________________________________________________\n",
            "dense_2 (Dense)              (None, 47)                6063      \n",
            "=================================================================\n",
            "Total params: 239,919\n",
            "Trainable params: 239,919\n",
            "Non-trainable params: 0\n",
            "_________________________________________________________________\n"
          ],
          "name": "stdout"
        }
      ]
    },
    {
      "cell_type": "markdown",
      "metadata": {
        "id": "JxGdeZ_t6guC",
        "colab_type": "text"
      },
      "source": [
        "#### Callback"
      ]
    },
    {
      "cell_type": "code",
      "metadata": {
        "id": "JcglLPpt6jCk",
        "colab_type": "code",
        "colab": {}
      },
      "source": [
        "early_stopper = tf.keras.callbacks.EarlyStopping(\n",
        "    monitor='val_loss', patience=5, verbose=0, mode='auto', restore_best_weights=True\n",
        ")"
      ],
      "execution_count": 31,
      "outputs": []
    },
    {
      "cell_type": "markdown",
      "metadata": {
        "id": "uVLaA5aYGPwT",
        "colab_type": "text"
      },
      "source": [
        "#### Compute class weights"
      ]
    },
    {
      "cell_type": "code",
      "metadata": {
        "id": "i9wiogNQGPag",
        "colab_type": "code",
        "colab": {}
      },
      "source": [
        "def get_training_labels(dataloader):\n",
        "    y_train = []\n",
        "    for _, label in dataloader:\n",
        "        y_train.extend(np.argmax(label, axis=1))\n",
        "    \n",
        "    return y_train\n",
        "\n",
        "y_train = get_training_labels(trainloader)"
      ],
      "execution_count": 32,
      "outputs": []
    },
    {
      "cell_type": "code",
      "metadata": {
        "id": "YtOjNHQAHztI",
        "colab_type": "code",
        "colab": {}
      },
      "source": [
        "cls_wt = class_weight.compute_class_weight('balanced', \n",
        "                                           np.unique(y_train), \n",
        "                                           y_train)"
      ],
      "execution_count": 33,
      "outputs": []
    },
    {
      "cell_type": "code",
      "metadata": {
        "id": "M8qfQ9lmIokw",
        "colab_type": "code",
        "colab": {
          "base_uri": "https://localhost:8080/",
          "height": 896
        },
        "outputId": "5033ce7d-eb95-43c7-e661-1fe1d774f0f0"
      },
      "source": [
        "class_weights = dict(zip(np.unique(y_train), cls_wt))\n",
        "class_weights"
      ],
      "execution_count": 34,
      "outputs": [
        {
          "output_type": "execute_result",
          "data": {
            "text/plain": [
              "{0: 0.4287421947271045,\n",
              " 1: 0.3880998128329477,\n",
              " 2: 0.43232532582428956,\n",
              " 3: 0.42194859305896765,\n",
              " 4: 0.4422314558463302,\n",
              " 5: 0.47467828260561684,\n",
              " 6: 0.43442334237707647,\n",
              " 7: 0.41178944971832043,\n",
              " 8: 0.43814809125124815,\n",
              " 9: 0.43807205819477174,\n",
              " 10: 2.307948475546893,\n",
              " 11: 3.835360137577015,\n",
              " 12: 1.1440379056254832,\n",
              " 13: 3.196295318502395,\n",
              " 14: 3.0074267840757583,\n",
              " 15: 1.6354198254425962,\n",
              " 16: 5.887206255954271,\n",
              " 17: 4.795657375670957,\n",
              " 18: 1.0097736170212765,\n",
              " 19: 2.5912893066651526,\n",
              " 20: 2.9511737696436655,\n",
              " 21: 0.7283842237155034,\n",
              " 22: 1.2772890318524548,\n",
              " 23: 1.8075569544273173,\n",
              " 24: 0.5379835569331667,\n",
              " 25: 1.3865945526492318,\n",
              " 26: 5.688224521300567,\n",
              " 27: 2.934023759359823,\n",
              " 28: 0.6285002346644405,\n",
              " 29: 1.523864567519734,\n",
              " 30: 0.9672902301146415,\n",
              " 31: 1.9548041215372398,\n",
              " 32: 2.023432223912465,\n",
              " 33: 2.652273631596125,\n",
              " 34: 2.074990993385822,\n",
              " 35: 2.733254701768289,\n",
              " 36: 1.4832162412180914,\n",
              " 37: 2.9211224746044797,\n",
              " 38: 1.4608993301812452,\n",
              " 39: 0.6034984562642103,\n",
              " 40: 5.849013073570879,\n",
              " 41: 4.026210594183718,\n",
              " 42: 1.7077757019031197,\n",
              " 43: 1.3009864164879363,\n",
              " 44: 5.006810873766742,\n",
              " 45: 1.0544837270481167,\n",
              " 46: 0.8135986987731054}"
            ]
          },
          "metadata": {
            "tags": []
          },
          "execution_count": 34
        }
      ]
    },
    {
      "cell_type": "markdown",
      "metadata": {
        "id": "ScKH6S3HUhcu",
        "colab_type": "text"
      },
      "source": [
        "#### Train"
      ]
    },
    {
      "cell_type": "code",
      "metadata": {
        "id": "GSpEIbopSVQm",
        "colab_type": "code",
        "colab": {
          "base_uri": "https://localhost:8080/",
          "height": 557
        },
        "outputId": "eb4dc9a8-6262-4be6-eed6-527d416eb9d6"
      },
      "source": [
        "# initialize wandb run\n",
        "wandb.init(entity='wandb', project='emnist')\n",
        "\n",
        "# hyperparameters\n",
        "config = wandb.config\n",
        "config.epochs = 70\n",
        "config.learning_rate = 0.001\n",
        "\n",
        "# model\n",
        "tf.keras.backend.clear_session()\n",
        "model = DenseModel()\n",
        "\n",
        "# optimizer\n",
        "optimizer = tf.keras.optimizers.Adam(learning_rate=config.learning_rate)\n",
        "\n",
        "# compile\n",
        "model.compile(optimizer, 'categorical_crossentropy', metrics=['acc'])\n",
        "\n",
        "# train\n",
        "model.fit(trainloader,\n",
        "          epochs=config.epochs,\n",
        "          class_weight=class_weights,\n",
        "          validation_data=testloader,\n",
        "          callbacks=[WandbCallback(),\n",
        "                     early_stopper])"
      ],
      "execution_count": 36,
      "outputs": [
        {
          "output_type": "display_data",
          "data": {
            "text/html": [
              "\n",
              "                Logging results to <a href=\"https://wandb.com\" target=\"_blank\">Weights & Biases</a> <a href=\"https://docs.wandb.com/integrations/jupyter.html\" target=\"_blank\">(Documentation)</a>.<br/>\n",
              "                Project page: <a href=\"https://app.wandb.ai/wandb/emnist\" target=\"_blank\">https://app.wandb.ai/wandb/emnist</a><br/>\n",
              "                Run page: <a href=\"https://app.wandb.ai/wandb/emnist/runs/ubj0wx7p\" target=\"_blank\">https://app.wandb.ai/wandb/emnist/runs/ubj0wx7p</a><br/>\n",
              "            "
            ],
            "text/plain": [
              "<IPython.core.display.HTML object>"
            ]
          },
          "metadata": {
            "tags": []
          }
        },
        {
          "output_type": "stream",
          "text": [
            "Epoch 1/70\n",
            "2318/2318 [==============================] - 174s 75ms/step - loss: 0.7734 - acc: 0.7633 - val_loss: 0.5339 - val_acc: 0.8213\n",
            "Epoch 2/70\n",
            "2318/2318 [==============================] - 168s 72ms/step - loss: 0.4810 - acc: 0.8286 - val_loss: 0.4657 - val_acc: 0.8341\n",
            "Epoch 3/70\n",
            "2318/2318 [==============================] - 166s 72ms/step - loss: 0.4199 - acc: 0.8428 - val_loss: 0.4346 - val_acc: 0.8483\n",
            "Epoch 4/70\n",
            "2318/2318 [==============================] - 164s 71ms/step - loss: 0.3850 - acc: 0.8506 - val_loss: 0.4270 - val_acc: 0.8505\n",
            "Epoch 5/70\n",
            "2318/2318 [==============================] - 168s 72ms/step - loss: 0.3586 - acc: 0.8568 - val_loss: 0.4071 - val_acc: 0.8564\n",
            "Epoch 6/70\n",
            "2318/2318 [==============================] - 166s 72ms/step - loss: 0.3400 - acc: 0.8611 - val_loss: 0.4164 - val_acc: 0.8523\n",
            "Epoch 7/70\n",
            "2318/2318 [==============================] - 163s 70ms/step - loss: 0.3236 - acc: 0.8639 - val_loss: 0.3974 - val_acc: 0.8609\n",
            "Epoch 8/70\n",
            "2318/2318 [==============================] - 165s 71ms/step - loss: 0.3104 - acc: 0.8670 - val_loss: 0.4057 - val_acc: 0.8588\n",
            "Epoch 9/70\n",
            "2318/2318 [==============================] - 166s 71ms/step - loss: 0.2998 - acc: 0.8694 - val_loss: 0.4051 - val_acc: 0.8610\n",
            "Epoch 10/70\n",
            "2318/2318 [==============================] - 166s 72ms/step - loss: 0.2910 - acc: 0.8711 - val_loss: 0.4089 - val_acc: 0.8601\n",
            "Epoch 11/70\n",
            "2318/2318 [==============================] - 169s 73ms/step - loss: 0.2815 - acc: 0.8730 - val_loss: 0.4141 - val_acc: 0.8580\n",
            "Epoch 12/70\n",
            "2318/2318 [==============================] - 171s 74ms/step - loss: 0.2743 - acc: 0.8746 - val_loss: 0.4114 - val_acc: 0.8575\n"
          ],
          "name": "stdout"
        },
        {
          "output_type": "execute_result",
          "data": {
            "text/plain": [
              "<tensorflow.python.keras.callbacks.History at 0x7fea1c15ae80>"
            ]
          },
          "metadata": {
            "tags": []
          },
          "execution_count": 36
        }
      ]
    },
    {
      "cell_type": "code",
      "metadata": {
        "id": "5qbue1HNkX4-",
        "colab_type": "code",
        "colab": {}
      },
      "source": [
        "def plot_confusion_matrix():\n",
        "  y_test = []\n",
        "  y_preds = []\n",
        "  for imgs, labels in tqdm(testloader):\n",
        "      y_test.extend(np.argmax(labels, axis=1))\n",
        "      y_pred = model.predict(imgs)\n",
        "      y_preds.extend(np.argmax(y_pred, axis=1))\n",
        "\n",
        "  cm = confusion_matrix(y_true = y_test, y_pred = y_preds)\n",
        "  cm_normalize = normalize(cm, axis=1)\n",
        "\n",
        "  plt.figure(figsize=(15,15));\n",
        "  sns.heatmap(cm_normalize, annot=False, xticklabels=LABELS, yticklabels=LABELS, linewidths=.1);\n",
        "\n",
        "  plt.savefig('confusion_matrix.png', bbox_inches='tight')"
      ],
      "execution_count": 37,
      "outputs": []
    },
    {
      "cell_type": "code",
      "metadata": {
        "id": "wx6kPmjXv6F6",
        "colab_type": "code",
        "colab": {
          "base_uri": "https://localhost:8080/",
          "height": 882
        },
        "outputId": "ce6ae051-fdbe-49b3-eb67-d091801997e3"
      },
      "source": [
        "plot_confusion_matrix()"
      ],
      "execution_count": 38,
      "outputs": [
        {
          "output_type": "stream",
          "text": [
            "409it [00:40, 10.21it/s]\n"
          ],
          "name": "stderr"
        },
        {
          "output_type": "display_data",
          "data": {
            "image/png": "[encoded data removed]",
            "text/plain": [
              "<Figure size 1080x1080 with 2 Axes>"
            ]
          },
          "metadata": {
            "tags": [],
            "needs_background": "light"
          }
        }
      ]
    },
    {
      "cell_type": "code",
      "metadata": {
        "id": "aJnMAomxPfIC",
        "colab_type": "code",
        "colab": {}
      },
      "source": [
        "wandb.log({\"image_confusion_matrix\": [wandb.Image('confusion_matrix.png')]})"
      ],
      "execution_count": 39,
      "outputs": []
    }
  ]
}