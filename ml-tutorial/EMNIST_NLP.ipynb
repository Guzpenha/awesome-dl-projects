{
  "nbformat": 4,
  "nbformat_minor": 0,
  "metadata": {
    "colab": {
      "name": "EMNIST NLP",
      "provenance": [],
      "toc_visible": true,
      "authorship_tag": "ABX9TyO3GJJocdZNR/AQfve8oCd6",
      "include_colab_link": true
    },
    "kernelspec": {
      "name": "python3",
      "display_name": "Python 3"
    },
    "accelerator": "GPU"
  },
  "cells": [
    {
      "cell_type": "markdown",
      "metadata": {
        "id": "view-in-github",
        "colab_type": "text"
      },
      "source": [
        "<a href=\"https://colab.research.google.com/github/wandb/awesome-dl-projects/blob/master/ml-tutorial/EMNIST_NLP.ipynb\" target=\"_parent\"><img src=\"https://colab.research.google.com/assets/colab-badge.svg\" alt=\"Open In Colab\"/></a>"
      ]
    },
    {
      "cell_type": "markdown",
      "metadata": {
        "id": "LHCCGutqrj-r",
        "colab_type": "text"
      },
      "source": [
        "# Imports and Setups"
      ]
    },
    {
      "cell_type": "code",
      "metadata": {
        "id": "qiFYfrVpXbAP",
        "colab_type": "code",
        "colab": {
          "base_uri": "https://localhost:8080/",
          "height": 386
        },
        "outputId": "22405428-afcc-4790-ee6b-3d7f6f887e75"
      },
      "source": [
        "!nvidia-smi"
      ],
      "execution_count": null,
      "outputs": [
        {
          "output_type": "stream",
          "text": [
            "Sat Aug 29 14:18:10 2020       \n",
            "+-----------------------------------------------------------------------------+\n",
            "| NVIDIA-SMI 450.66       Driver Version: 418.67       CUDA Version: 10.1     |\n",
            "|-------------------------------+----------------------+----------------------+\n",
            "| GPU  Name        Persistence-M| Bus-Id        Disp.A | Volatile Uncorr. ECC |\n",
            "| Fan  Temp  Perf  Pwr:Usage/Cap|         Memory-Usage | GPU-Util  Compute M. |\n",
            "|                               |                      |               MIG M. |\n",
            "|===============================+======================+======================|\n",
            "|   0  Tesla T4            Off  | 00000000:00:04.0 Off |                    0 |\n",
            "| N/A   67C    P8    11W /  70W |      0MiB / 15079MiB |      0%      Default |\n",
            "|                               |                      |                 ERR! |\n",
            "+-------------------------------+----------------------+----------------------+\n",
            "                                                                               \n",
            "+-----------------------------------------------------------------------------+\n",
            "| Processes:                                                                  |\n",
            "|  GPU   GI   CI        PID   Type   Process name                  GPU Memory |\n",
            "|        ID   ID                                                   Usage      |\n",
            "|=============================================================================|\n",
            "|  No running processes found                                                 |\n",
            "+-----------------------------------------------------------------------------+\n"
          ],
          "name": "stdout"
        }
      ]
    },
    {
      "cell_type": "code",
      "metadata": {
        "id": "eGY8OiyGpN-x",
        "colab_type": "code",
        "colab": {
          "base_uri": "https://localhost:8080/",
          "height": 92
        },
        "outputId": "1961bc9b-b2d0-468c-8790-11afd156e3bc"
      },
      "source": [
        "import tensorflow as tf\n",
        "print(tf.__version__)\n",
        "\n",
        "from tensorflow.keras.layers import *\n",
        "from tensorflow.keras.models import *\n",
        "import tensorflow_datasets as tfds\n",
        "\n",
        "import numpy as np\n",
        "import matplotlib.pyplot as plt\n",
        "\n",
        "%matplotlib inline\n",
        "tfds.disable_progress_bar()\n",
        "\n",
        "import csv\n",
        "import string\n",
        "import pathlib\n",
        "import gzip\n",
        "from tqdm import tqdm\n",
        "import seaborn as sns\n",
        "from itertools import groupby\n",
        "\n",
        "from sklearn.utils import shuffle"
      ],
      "execution_count": null,
      "outputs": [
        {
          "output_type": "stream",
          "text": [
            "2.3.0\n"
          ],
          "name": "stdout"
        },
        {
          "output_type": "stream",
          "text": [
            "/usr/local/lib/python3.6/dist-packages/statsmodels/tools/_testing.py:19: FutureWarning: pandas.util.testing is deprecated. Use the functions in the public API at pandas.testing instead.\n",
            "  import pandas.util.testing as tm\n"
          ],
          "name": "stderr"
        }
      ]
    },
    {
      "cell_type": "code",
      "metadata": {
        "id": "HqUfAaLR7H4F",
        "colab_type": "code",
        "colab": {}
      },
      "source": [
        "%%capture\n",
        "!pip install wandb"
      ],
      "execution_count": null,
      "outputs": []
    },
    {
      "cell_type": "code",
      "metadata": {
        "id": "3GeVDMnA7LOr",
        "colab_type": "code",
        "colab": {
          "base_uri": "https://localhost:8080/",
          "height": 108
        },
        "outputId": "4fb112dc-5ec7-4a49-a2d9-e5b3e5e02ec7"
      },
      "source": [
        "import wandb\n",
        "from wandb.keras import WandbCallback\n",
        "\n",
        "wandb.login()"
      ],
      "execution_count": null,
      "outputs": [
        {
          "output_type": "display_data",
          "data": {
            "application/javascript": [
              "\n",
              "        window._wandbApiKey = new Promise((resolve, reject) => {\n",
              "            function loadScript(url) {\n",
              "            return new Promise(function(resolve, reject) {\n",
              "                let newScript = document.createElement(\"script\");\n",
              "                newScript.onerror = reject;\n",
              "                newScript.onload = resolve;\n",
              "                document.body.appendChild(newScript);\n",
              "                newScript.src = url;\n",
              "            });\n",
              "            }\n",
              "            loadScript(\"https://cdn.jsdelivr.net/npm/postmate/build/postmate.min.js\").then(() => {\n",
              "            const iframe = document.createElement('iframe')\n",
              "            iframe.style.cssText = \"width:0;height:0;border:none\"\n",
              "            document.body.appendChild(iframe)\n",
              "            const handshake = new Postmate({\n",
              "                container: iframe,\n",
              "                url: 'https://app.wandb.ai/authorize'\n",
              "            });\n",
              "            const timeout = setTimeout(() => reject(\"Couldn't auto authenticate\"), 5000)\n",
              "            handshake.then(function(child) {\n",
              "                child.on('authorize', data => {\n",
              "                    clearTimeout(timeout)\n",
              "                    resolve(data)\n",
              "                });\n",
              "            });\n",
              "            })\n",
              "        });\n",
              "    "
            ],
            "text/plain": [
              "<IPython.core.display.Javascript object>"
            ]
          },
          "metadata": {
            "tags": []
          }
        },
        {
          "output_type": "stream",
          "text": [
            "\u001b[34m\u001b[1mwandb\u001b[0m: \u001b[32m\u001b[41mERROR\u001b[0m Not authenticated.  Copy a key from https://app.wandb.ai/authorize\n"
          ],
          "name": "stderr"
        },
        {
          "output_type": "stream",
          "text": [
            "API Key: ··········\n"
          ],
          "name": "stdout"
        },
        {
          "output_type": "stream",
          "text": [
            "\u001b[34m\u001b[1mwandb\u001b[0m: Appending key for api.wandb.ai to your netrc file: /root/.netrc\n"
          ],
          "name": "stderr"
        },
        {
          "output_type": "execute_result",
          "data": {
            "text/plain": [
              "True"
            ]
          },
          "metadata": {
            "tags": []
          },
          "execution_count": 4
        }
      ]
    },
    {
      "cell_type": "markdown",
      "metadata": {
        "id": "p9VJbZx9g9Uz",
        "colab_type": "text"
      },
      "source": [
        "# Download Dataset"
      ]
    },
    {
      "cell_type": "markdown",
      "metadata": {
        "id": "WHw1hCpYg_1R",
        "colab_type": "text"
      },
      "source": [
        "#### Wiki-split dataset"
      ]
    },
    {
      "cell_type": "code",
      "metadata": {
        "id": "4SOyIXEHnI4p",
        "colab_type": "code",
        "colab": {
          "base_uri": "https://localhost:8080/",
          "height": 91
        },
        "outputId": "34516d3c-fb42-49bd-c469-70b587e93f9e"
      },
      "source": [
        "!git clone https://github.com/google-research-datasets/wiki-split"
      ],
      "execution_count": null,
      "outputs": [
        {
          "output_type": "stream",
          "text": [
            "Cloning into 'wiki-split'...\n",
            "remote: Enumerating objects: 32, done.\u001b[K\n",
            "remote: Total 32 (delta 0), reused 0 (delta 0), pack-reused 32\u001b[K\n",
            "Unpacking objects: 100% (32/32), done.\n"
          ],
          "name": "stdout"
        }
      ]
    },
    {
      "cell_type": "markdown",
      "metadata": {
        "id": "Ewq14NyxhId2",
        "colab_type": "text"
      },
      "source": [
        "> Side Note: We will be using `test.tsv` for our experiment to speed up the process."
      ]
    },
    {
      "cell_type": "markdown",
      "metadata": {
        "id": "gcRbRClXjBq1",
        "colab_type": "text"
      },
      "source": [
        "#### EMNIST/Bymerge Dataset"
      ]
    },
    {
      "cell_type": "code",
      "metadata": {
        "id": "0qrzBv-XjFiQ",
        "colab_type": "code",
        "colab": {
          "base_uri": "https://localhost:8080/",
          "height": 148
        },
        "outputId": "a67a789f-d77e-40b4-a68a-465d88cab95a"
      },
      "source": [
        "# Gather EMNIST/bymerge dataset\n",
        "train_ds, validation_ds = tfds.load(\n",
        "    \"emnist/bymerge\",\n",
        "    split=[\"train[:85%]\", \"train[85%:]\"],\n",
        "    as_supervised=True\n",
        ")"
      ],
      "execution_count": null,
      "outputs": [
        {
          "output_type": "stream",
          "text": [
            "\u001b[1mDownloading and preparing dataset emnist/bymerge/3.0.0 (download: 535.73 MiB, generated: Unknown size, total: 535.73 MiB) to /root/tensorflow_datasets/emnist/bymerge/3.0.0...\u001b[0m\n"
          ],
          "name": "stdout"
        },
        {
          "output_type": "stream",
          "text": [
            "/usr/local/lib/python3.6/dist-packages/urllib3/connectionpool.py:847: InsecureRequestWarning: Unverified HTTPS request is being made. Adding certificate verification is strongly advised. See: https://urllib3.readthedocs.io/en/latest/advanced-usage.html#ssl-warnings\n",
            "  InsecureRequestWarning)\n"
          ],
          "name": "stderr"
        },
        {
          "output_type": "stream",
          "text": [
            "Shuffling and writing examples to /root/tensorflow_datasets/emnist/bymerge/3.0.0.incompleteAJ93PF/emnist-train.tfrecord\n",
            "Shuffling and writing examples to /root/tensorflow_datasets/emnist/bymerge/3.0.0.incompleteAJ93PF/emnist-test.tfrecord\n",
            "\u001b[1mDataset emnist downloaded and prepared to /root/tensorflow_datasets/emnist/bymerge/3.0.0. Subsequent calls will reuse this data.\u001b[0m\n"
          ],
          "name": "stdout"
        }
      ]
    },
    {
      "cell_type": "markdown",
      "metadata": {
        "id": "8Of-n4NypN_4",
        "colab_type": "text"
      },
      "source": [
        "# Load Data, Clean it and preprocess"
      ]
    },
    {
      "cell_type": "code",
      "metadata": {
        "id": "0Av4Db7lpN_8",
        "colab_type": "code",
        "colab": {
          "base_uri": "https://localhost:8080/",
          "height": 54
        },
        "outputId": "46e2d856-2eb2-43a4-88ac-a0735c322171"
      },
      "source": [
        "raw_sentences = []  # empty list to store sentences\n",
        "with open(\"wiki-split/test.tsv\", \"r\") as f:\n",
        "    reader = csv.reader(f, delimiter='\\t')  # read a tsv file\n",
        "    for row in tqdm(reader):\n",
        "        raw_sentences.extend(row[1].split(\"<::::>\"))\n",
        "print(\"Total Sentences: \", len(raw_sentences))"
      ],
      "execution_count": null,
      "outputs": [
        {
          "output_type": "stream",
          "text": [
            "5000it [00:00, 152616.71it/s]"
          ],
          "name": "stderr"
        },
        {
          "output_type": "stream",
          "text": [
            "Total Sentences:  10000\n"
          ],
          "name": "stdout"
        },
        {
          "output_type": "stream",
          "text": [
            "\n"
          ],
          "name": "stderr"
        }
      ]
    },
    {
      "cell_type": "code",
      "metadata": {
        "id": "0C-5foj6pOAN",
        "colab_type": "code",
        "colab": {
          "base_uri": "https://localhost:8080/",
          "height": 74
        },
        "outputId": "5ead3037-50f2-405f-d20b-f369a1a6197c"
      },
      "source": [
        "# Some samples\n",
        "print(raw_sentences[99], '\\n', raw_sentences[100])"
      ],
      "execution_count": null,
      "outputs": [
        {
          "output_type": "stream",
          "text": [
            " He was was arrested and booked on charges of first - degree murder and first - degree robbery . \n",
            " A 2006 estimate by the International Organization for Migration put the number of Sudanese people in the UK at a much higher figure . \n"
          ],
          "name": "stdout"
        }
      ]
    },
    {
      "cell_type": "markdown",
      "metadata": {
        "id": "mIPqzykIkXxd",
        "colab_type": "text"
      },
      "source": [
        "#### Remove punctuations"
      ]
    },
    {
      "cell_type": "code",
      "metadata": {
        "id": "-HtS5z3MpOAe",
        "colab_type": "code",
        "colab": {
          "base_uri": "https://localhost:8080/",
          "height": 54
        },
        "outputId": "97a7a6ad-792b-45f9-c0f4-7983767bf957"
      },
      "source": [
        "# As we see there are lots of punctuations which we dont have in EMNIST, so we are going to remove them, \n",
        "# and replace multiple spaces with one\n",
        "import re\n",
        "\n",
        "sentences = []\n",
        "table = str.maketrans({key: None for key in string.punctuation})  # translation table\n",
        "\n",
        "for sentence in raw_sentences:\n",
        "    # remove punctuation and non-ascii characters\n",
        "    clean_sentence = re.sub('  +', ' ', sentence.translate(table)).\\\n",
        "                        encode(\"ascii\", 'ignore').decode()  \n",
        "    sentences.append(clean_sentence.strip())  # add to clean sentences\n",
        "    \n",
        "print(sentences[99], '\\n', raw_sentences[99])  # to verify"
      ],
      "execution_count": null,
      "outputs": [
        {
          "output_type": "stream",
          "text": [
            "He was was arrested and booked on charges of first degree murder and first degree robbery \n",
            "  He was was arrested and booked on charges of first - degree murder and first - degree robbery .\n"
          ],
          "name": "stdout"
        }
      ]
    },
    {
      "cell_type": "code",
      "metadata": {
        "id": "4DxGdQ087p1V",
        "colab_type": "code",
        "colab": {
          "base_uri": "https://localhost:8080/",
          "height": 35
        },
        "outputId": "82b2df72-d10f-46aa-f7d2-3fe83e48b07e"
      },
      "source": [
        "print('Number of sentences', len(sentences))"
      ],
      "execution_count": null,
      "outputs": [
        {
          "output_type": "stream",
          "text": [
            "Number of sentences 10000\n"
          ],
          "name": "stdout"
        }
      ]
    },
    {
      "cell_type": "markdown",
      "metadata": {
        "id": "lwUb0KtemeK3",
        "colab_type": "text"
      },
      "source": [
        "#### EMNIST Labels"
      ]
    },
    {
      "cell_type": "code",
      "metadata": {
        "id": "oSXgQqsOEF38",
        "colab_type": "code",
        "colab": {
          "base_uri": "https://localhost:8080/",
          "height": 35
        },
        "outputId": "b3f8480e-7293-4e5d-add0-e5ca86c0c5ff"
      },
      "source": [
        "MAPPINGS = ['0', '1', '2', '3', '4', '5', '6', '7', '8', '9', \n",
        "          'A', 'B', 'C', 'D', 'E', 'F', 'G', 'H', 'I', 'J', 'K', 'L', 'M', 'N', 'O', 'P', 'Q', 'R', 'S', 'T', 'U', 'V', 'W', 'X', 'Y', 'Z',\n",
        "          'a', 'b', 'd', 'e', 'f', 'g', 'h', 'n', 'q', 'r', 't']\n",
        "\n",
        "print(len(MAPPINGS))"
      ],
      "execution_count": null,
      "outputs": [
        {
          "output_type": "stream",
          "text": [
            "47\n"
          ],
          "name": "stdout"
        }
      ]
    },
    {
      "cell_type": "markdown",
      "metadata": {
        "id": "USfu5WfonDPZ",
        "colab_type": "text"
      },
      "source": [
        "#### Dataloader for EMNIST"
      ]
    },
    {
      "cell_type": "code",
      "metadata": {
        "id": "WE7sVKVPEJzK",
        "colab_type": "code",
        "colab": {}
      },
      "source": [
        "AUTO = tf.data.experimental.AUTOTUNE\n",
        "BATCH_SIZE = 256\n",
        "\n",
        "## We are transposing to rotate the image by 90 deg clockwise making the images human friendly.\n",
        "def transpose(image, label):\n",
        "  image = tf.image.convert_image_dtype(image, dtype=tf.float32) # scale image pixels to [0,1]\n",
        "  image = tf.transpose(image, [1,0,2]) # transpose to get human friendly image, since rotation\n",
        "  return image, label\n",
        "\n",
        "trainloader = (\n",
        "    train_ds\n",
        "    .shuffle(1024)\n",
        "    .map(transpose, num_parallel_calls=AUTO)\n",
        "    .prefetch(AUTO)\n",
        ")"
      ],
      "execution_count": null,
      "outputs": []
    },
    {
      "cell_type": "code",
      "metadata": {
        "id": "Exo6ceZ1EJv0",
        "colab_type": "code",
        "colab": {
          "base_uri": "https://localhost:8080/",
          "height": 591
        },
        "outputId": "8cf6f90b-548c-4d7c-ae74-7a8097620485"
      },
      "source": [
        "plt.figure(figsize=(10, 10))\n",
        "n = 0\n",
        "for img, label in trainloader.take(25):\n",
        "    ax = plt.subplot(5, 5, n+1)\n",
        "    plt.imshow(tf.reshape(img, (28,28)), cmap='gray')\n",
        "    plt.title(MAPPINGS[int(label.numpy())])\n",
        "    plt.axis('off')\n",
        "    n+=1"
      ],
      "execution_count": null,
      "outputs": [
        {
          "output_type": "display_data",
          "data": {
            "image/png": "[encoded data removed]",
            "text/plain": [
              "<Figure size 720x720 with 25 Axes>"
            ]
          },
          "metadata": {
            "tags": [],
            "needs_background": "light"
          }
        }
      ]
    },
    {
      "cell_type": "markdown",
      "metadata": {
        "id": "TiVoXehQnsOB",
        "colab_type": "text"
      },
      "source": [
        "#### Get all the images in an array"
      ]
    },
    {
      "cell_type": "code",
      "metadata": {
        "id": "3BZDQWDjRlXv",
        "colab_type": "code",
        "colab": {
          "base_uri": "https://localhost:8080/",
          "height": 35
        },
        "outputId": "2423a547-c136-44d3-eef3-8e3fe94182f4"
      },
      "source": [
        "IMAGES = []\n",
        "LABELS = []\n",
        "\n",
        "for img, label in tqdm(trainloader):\n",
        "    IMAGES.append(tf.reshape(img, (28,28)).numpy())\n",
        "    LABELS.append(label.numpy())\n",
        "\n",
        "IMAGES = np.array(IMAGES)\n",
        "LABELS = np.array(LABELS)"
      ],
      "execution_count": null,
      "outputs": [
        {
          "output_type": "stream",
          "text": [
            "593242it [08:08, 1214.91it/s]\n"
          ],
          "name": "stderr"
        }
      ]
    },
    {
      "cell_type": "markdown",
      "metadata": {
        "id": "75WCj0tmqIwo",
        "colab_type": "text"
      },
      "source": [
        "#### Index Images"
      ]
    },
    {
      "cell_type": "code",
      "metadata": {
        "id": "Th2nVHDvVYiG",
        "colab_type": "code",
        "colab": {
          "base_uri": "https://localhost:8080/",
          "height": 35
        },
        "outputId": "33701ff6-fe27-4df6-9357-3a26057d9406"
      },
      "source": [
        "image_index = {}  # where key is the char and value is a list of IDs\n",
        "for idx, label in tqdm(enumerate(LABELS)):\n",
        "    char = MAPPINGS[label]\n",
        "    if char in image_index:\n",
        "        # this character already exists\n",
        "        image_index[char].append(idx) # append index\n",
        "    else:\n",
        "        image_index[char] = [idx]  # initiate list with 1 item"
      ],
      "execution_count": null,
      "outputs": [
        {
          "output_type": "stream",
          "text": [
            "593242it [00:00, 1607713.51it/s]\n"
          ],
          "name": "stderr"
        }
      ]
    },
    {
      "cell_type": "markdown",
      "metadata": {
        "id": "jMWtqzPdqbO_",
        "colab_type": "text"
      },
      "source": [
        "# Utils to generate image from text"
      ]
    },
    {
      "cell_type": "code",
      "metadata": {
        "id": "A0bAc0kPXf9j",
        "colab_type": "code",
        "colab": {}
      },
      "source": [
        "def get_sample_sentences(sentences_in=sentences, num_sentence=10):\n",
        "    # Get a defined number of sentences from the data\n",
        "    return np.random.choice(sentences_in, num_sentence)\n",
        "\n",
        "def get_generated_image(words, chars=IMAGES, index=image_index):\n",
        "    # words is string of char/numbers that needs to be converted into an image\n",
        "    # chars is a data set of images that need to be used to compose, usually pass in train['features'] in here\n",
        "    # index maps a character to indexes in the images, available as dictionary\n",
        "    height, width = IMAGES[0].shape # height and width of each character\n",
        "    length = len(words) # total number of characters in the image\n",
        "    \n",
        "    # create an empty array to store the data\n",
        "    image = np.zeros((height, width * length))\n",
        "    pos = 0  # starting index of the character\n",
        "    \n",
        "    for char in words:\n",
        "        if char is ' ':\n",
        "            pos += width # if space, move over\n",
        "        else:\n",
        "            if char in image_index:\n",
        "                # pick a random item from all images for that char\n",
        "                idx = np.random.choice(image_index[char])  \n",
        "                image[:, pos:(pos+width)] += chars[idx]\n",
        "            elif char.upper() in image_index:  # to remove characters from other languages\n",
        "                # for some characters, there is only upper case\n",
        "                idx = np.random.choice(image_index[char.upper()])  \n",
        "                image[:, pos:(pos+width)] += chars[idx]\n",
        "            \n",
        "            pos += width\n",
        "    \n",
        "    return image"
      ],
      "execution_count": null,
      "outputs": []
    },
    {
      "cell_type": "markdown",
      "metadata": {
        "id": "ASm9g8-_qsFR",
        "colab_type": "text"
      },
      "source": [
        "#### Check one sample"
      ]
    },
    {
      "cell_type": "code",
      "metadata": {
        "id": "9buIC1YVX1g4",
        "colab_type": "code",
        "colab": {
          "base_uri": "https://localhost:8080/",
          "height": 77
        },
        "outputId": "301fc155-0da6-4c94-a897-941788ca8f39"
      },
      "source": [
        "# Let's print a sample to see how it looks\n",
        "s = get_sample_sentences(sentences, 1)\n",
        "print(s)\n",
        "img = get_generated_image(s[0])\n",
        "plt.figure(figsize=(9,2))\n",
        "plt.imshow(img, cmap='gray')\n",
        "plt.show()"
      ],
      "execution_count": null,
      "outputs": [
        {
          "output_type": "stream",
          "text": [
            "['Dragon Day is an annual event at Cornell University that occurs in March']\n"
          ],
          "name": "stdout"
        },
        {
          "output_type": "display_data",
          "data": {
            "image/png": "[encoded data removed]",
            "text/plain": [
              "<Figure size 648x144 with 1 Axes>"
            ]
          },
          "metadata": {
            "tags": [],
            "needs_background": "light"
          }
        }
      ]
    },
    {
      "cell_type": "markdown",
      "metadata": {
        "id": "7EzTHffnrEo4",
        "colab_type": "text"
      },
      "source": [
        "# Build Training Dataset"
      ]
    },
    {
      "cell_type": "code",
      "metadata": {
        "id": "1IEJhTF3YEg4",
        "colab_type": "code",
        "colab": {}
      },
      "source": [
        "train_sentences = sentences[:2000]\n",
        "test_sentences = sentences[2000:2500]\n",
        "\n",
        "# Lets assume that for each training sample, 2 variants will be generated\n",
        "\n",
        "def generate_sentences(texts, chars, \n",
        "                           index, num_variants=2, max_length=32):\n",
        "    # this method takes input text lines, character samples and labels\n",
        "    # and generates images. It can generate multiple images per sentence\n",
        "    # as controlled by num_variants parameter. max_length parameter\n",
        "    # ensures that all sentences are the same length\n",
        "    \n",
        "    # total number of samples to generate\n",
        "    num_samples = len(texts) * num_variants\n",
        "    height, width = chars[0].shape  # shape of image\n",
        "    \n",
        "    # setup empty array of the images\n",
        "    images = np.zeros((num_samples, height, width * max_length), np.float64)\n",
        "    labels = []\n",
        "    \n",
        "    for i, item in tqdm(enumerate(texts)):\n",
        "        padded_item = item[0:max_length] if (len(item) > max_length) else item.ljust(max_length, ' ')\n",
        "        \n",
        "        for v in range(num_variants):\n",
        "            img = get_generated_image(padded_item, chars, index)\n",
        "            images[i*num_variants+v, :, :] += img\n",
        "            labels.append(padded_item)\n",
        "    \n",
        "    return images, labels"
      ],
      "execution_count": null,
      "outputs": []
    },
    {
      "cell_type": "code",
      "metadata": {
        "id": "317adGptYcs5",
        "colab_type": "code",
        "colab": {
          "base_uri": "https://localhost:8080/",
          "height": 54
        },
        "outputId": "8286a66d-8e18-4646-d5e4-a00e754d584f"
      },
      "source": [
        "train_images, train_labels = generate_sentences(train_sentences, IMAGES, image_index)\n",
        "test_images, test_labels = generate_sentences(test_sentences, IMAGES, image_index)\n",
        "\n",
        "train_images, train_labels = shuffle(train_images, train_labels)\n",
        "test_images, test_labels = shuffle(test_images, test_labels)"
      ],
      "execution_count": null,
      "outputs": [
        {
          "output_type": "stream",
          "text": [
            "2000it [02:29, 13.40it/s]\n",
            "500it [00:37, 13.18it/s]\n"
          ],
          "name": "stderr"
        }
      ]
    },
    {
      "cell_type": "markdown",
      "metadata": {
        "colab_type": "text",
        "id": "jgEJHI4CsUvY"
      },
      "source": [
        "#### Check one sample"
      ]
    },
    {
      "cell_type": "code",
      "metadata": {
        "id": "FZvWNvk4Y1z_",
        "colab_type": "code",
        "colab": {
          "base_uri": "https://localhost:8080/",
          "height": 85
        },
        "outputId": "ab1d9bf9-24f3-4a62-d345-dde867828b0e"
      },
      "source": [
        "# Sample some to check\n",
        "idx=0\n",
        "print(train_labels[idx])\n",
        "plt.figure(figsize=(9,2))\n",
        "plt.imshow(train_images[idx], cmap='gray');\n",
        "plt.show()"
      ],
      "execution_count": null,
      "outputs": [
        {
          "output_type": "stream",
          "text": [
            "Because of his elegant football \n"
          ],
          "name": "stdout"
        },
        {
          "output_type": "display_data",
          "data": {
            "image/png": "[encoded data removed]",
            "text/plain": [
              "<Figure size 648x144 with 1 Axes>"
            ]
          },
          "metadata": {
            "tags": [],
            "needs_background": "light"
          }
        }
      ]
    },
    {
      "cell_type": "markdown",
      "metadata": {
        "id": "VmgFAVAFr_1u",
        "colab_type": "text"
      },
      "source": [
        "#### Save Dataset"
      ]
    },
    {
      "cell_type": "code",
      "metadata": {
        "id": "qiEyviXGa32C",
        "colab_type": "code",
        "colab": {}
      },
      "source": [
        "# Now to save these models for easy loading\n",
        "pp = pathlib.Path('.') / 'sentences'\n",
        "pp.mkdir(exist_ok=True)  # create the directory\n",
        "\n",
        "np.save(pp / 'train_images', train_images)\n",
        "np.save(pp / 'test_images', test_images)\n",
        "np.save(pp / 'train_labels', train_labels)\n",
        "np.save(pp / 'test_labels', test_labels)"
      ],
      "execution_count": null,
      "outputs": []
    },
    {
      "cell_type": "markdown",
      "metadata": {
        "id": "j8kQvdfl-Ox1",
        "colab_type": "text"
      },
      "source": [
        "# Prepare Training Dataset(Label)"
      ]
    },
    {
      "cell_type": "code",
      "metadata": {
        "id": "qDw__t1Jlk-8",
        "colab_type": "code",
        "colab": {}
      },
      "source": [
        "# create a dictionary of mapping from \n",
        "mappings = dict(zip(np.arange(0, 47), MAPPINGS))\n",
        "# add a space for spacing words\n",
        "mappings[47] = ' '\n",
        "# inverse: character as key and value as it's integer encoding\n",
        "inverse_mappings = {v: k for k, v in mappings.items()}"
      ],
      "execution_count": null,
      "outputs": []
    },
    {
      "cell_type": "code",
      "metadata": {
        "id": "SxCE4CgilaPA",
        "colab_type": "code",
        "colab": {
          "base_uri": "https://localhost:8080/",
          "height": 111
        },
        "outputId": "adb2c823-4939-4ceb-89d7-672885545251"
      },
      "source": [
        "# now convert categorical labels from the sentences\n",
        "encode = lambda x: [inverse_mappings[xi] if xi in inverse_mappings else inverse_mappings[xi.upper()] for xi in x]\n",
        "decode = lambda x: [mappings[xi] for xi in x]\n",
        "\n",
        "train_labels_cat = np.array([encode(xi) for xi in train_labels])\n",
        "test_labels_cat = np.array([encode(xi) for xi in test_labels])\n",
        "\n",
        "# Verify the encoding/decoding\n",
        "print(train_labels[1])\n",
        "print(train_labels_cat.shape, train_labels_cat[1])\n",
        "print(decode(train_labels_cat[1]))"
      ],
      "execution_count": null,
      "outputs": [
        {
          "output_type": "stream",
          "text": [
            "During the 2009 NRL season the N\n",
            "(4000, 32) [13 30 45 18 43 41 47 46 42 39 47  2  0  0  9 47 23 27 21 47 28 39 36 28\n",
            " 24 43 47 46 42 39 47 23]\n",
            "['D', 'U', 'r', 'I', 'n', 'g', ' ', 't', 'h', 'e', ' ', '2', '0', '0', '9', ' ', 'N', 'R', 'L', ' ', 'S', 'e', 'a', 'S', 'O', 'n', ' ', 't', 'h', 'e', ' ', 'N']\n"
          ],
          "name": "stdout"
        }
      ]
    },
    {
      "cell_type": "markdown",
      "metadata": {
        "id": "195rY50uPhrw",
        "colab_type": "text"
      },
      "source": [
        "# Build Train and Test Loader\n",
        "\n",
        "Using `tf.data`"
      ]
    },
    {
      "cell_type": "code",
      "metadata": {
        "id": "VKNx2nN4Pqcc",
        "colab_type": "code",
        "colab": {}
      },
      "source": [
        "AUTO = tf.data.experimental.AUTOTUNE\n",
        "BATCH_SIZE = 64\n",
        "\n",
        "# This step will make sense after looking at the model\n",
        "def merge_image_label(image, label):\n",
        "    return (image, label), label\n",
        "\n",
        "trainloader = tf.data.Dataset.from_tensor_slices((train_images, train_labels_cat))\n",
        "testloader = tf.data.Dataset.from_tensor_slices((test_images, test_labels_cat))\n",
        "\n",
        "trainloader = (\n",
        "    trainloader\n",
        "    .shuffle(1024)\n",
        "    .map(merge_image_label, num_parallel_calls=AUTO)\n",
        "    .batch(BATCH_SIZE)\n",
        "    .prefetch(AUTO)\n",
        ")\n",
        "\n",
        "testloader = (\n",
        "    testloader\n",
        "    .map(merge_image_label, num_parallel_calls=AUTO)\n",
        "    .batch(BATCH_SIZE)\n",
        "    .prefetch(AUTO)\n",
        ")"
      ],
      "execution_count": null,
      "outputs": []
    },
    {
      "cell_type": "markdown",
      "metadata": {
        "id": "xg-LdXSDsbPs",
        "colab_type": "text"
      },
      "source": [
        "# Build Model"
      ]
    },
    {
      "cell_type": "code",
      "metadata": {
        "id": "5fdP1t6zuU73",
        "colab_type": "code",
        "colab": {}
      },
      "source": [
        "# CNN definition : LeNet5 architecture, a classic architecture\n",
        "IMG_H, IMG_W = train_images[1].shape\n",
        "# we limited output sentences to 32 chars\n",
        "OUTPUT_LENGTH = 32  \n",
        "# EMNIST has 47 labels, adding one for 'blank space'\n",
        "NUM_CLASSES = 49 # notice two additional class; one is for \"space\" another is required by \"CTCLayer\""
      ],
      "execution_count": null,
      "outputs": []
    },
    {
      "cell_type": "markdown",
      "metadata": {
        "id": "XNeF-P0gsit7",
        "colab_type": "text"
      },
      "source": [
        "#### Utility to Extract Patch\n",
        "\n",
        "Since each image is a sentence, we will extract patches from it\n",
        "width of each patch will be 20 pixels wide (note EMNIST is 28 px)\n",
        "and every time we will move 14 px over to extract another sample"
      ]
    },
    {
      "cell_type": "code",
      "metadata": {
        "id": "YfI1fixxumPn",
        "colab_type": "code",
        "colab": {}
      },
      "source": [
        "PATCH_WIDTH = 20\n",
        "PATCH_STRIDE = 14"
      ],
      "execution_count": null,
      "outputs": []
    },
    {
      "cell_type": "code",
      "metadata": {
        "id": "RExyW0Opi_g_",
        "colab_type": "code",
        "colab": {}
      },
      "source": [
        "def extract_patches(image):\n",
        "    kernel = [1, 1, PATCH_WIDTH, 1]\n",
        "    strides = [1, 1, PATCH_STRIDE, 1]\n",
        "    patches = tf.image.extract_patches(image, kernel, strides, [1, 1, 1, 1], 'VALID')\n",
        "    patches = tf.transpose(patches, (0, 2, 1, 3))\n",
        "    patches = tf.expand_dims(patches, -1)\n",
        "    return patches"
      ],
      "execution_count": null,
      "outputs": []
    },
    {
      "cell_type": "markdown",
      "metadata": {
        "id": "wmjDDWLfHWyJ",
        "colab_type": "text"
      },
      "source": [
        "#### CNN backbone\n",
        "\n",
        "* Takes in a patch of image\n",
        "* Returned flattened embedding"
      ]
    },
    {
      "cell_type": "code",
      "metadata": {
        "id": "Ra0ehhwMG3FF",
        "colab_type": "code",
        "colab": {
          "base_uri": "https://localhost:8080/",
          "height": 386
        },
        "outputId": "b7f96093-66cf-4644-d9c5-cda2d018b7d2"
      },
      "source": [
        "def ImagePatchEncoder():\n",
        "  patched_inputs = Input(shape=(IMG_H, PATCH_WIDTH, 1))\n",
        "  x = Conv2D(32, kernel_size=(3, 3), activation='relu')(patched_inputs)\n",
        "  x = Conv2D(64, kernel_size=(3, 3), activation='relu')(x)\n",
        "  x = MaxPooling2D(pool_size=(2, 2))(x)\n",
        "  x = Dropout(0.2)(x)\n",
        "  flattened_outputs = Flatten()(x)\n",
        "\n",
        "  return Model(inputs=patched_inputs, outputs=flattened_outputs, name='backbone')\n",
        "\n",
        "tf.keras.backend.clear_session()\n",
        "image_patch_encoder = ImagePatchEncoder()\n",
        "image_patch_encoder.summary()"
      ],
      "execution_count": null,
      "outputs": [
        {
          "output_type": "stream",
          "text": [
            "Model: \"backbone\"\n",
            "_________________________________________________________________\n",
            "Layer (type)                 Output Shape              Param #   \n",
            "=================================================================\n",
            "input_1 (InputLayer)         [(None, 28, 20, 1)]       0         \n",
            "_________________________________________________________________\n",
            "conv2d (Conv2D)              (None, 26, 18, 32)        320       \n",
            "_________________________________________________________________\n",
            "conv2d_1 (Conv2D)            (None, 24, 16, 64)        18496     \n",
            "_________________________________________________________________\n",
            "max_pooling2d (MaxPooling2D) (None, 12, 8, 64)         0         \n",
            "_________________________________________________________________\n",
            "dropout (Dropout)            (None, 12, 8, 64)         0         \n",
            "_________________________________________________________________\n",
            "flatten (Flatten)            (None, 6144)              0         \n",
            "=================================================================\n",
            "Total params: 18,816\n",
            "Trainable params: 18,816\n",
            "Non-trainable params: 0\n",
            "_________________________________________________________________\n"
          ],
          "name": "stdout"
        }
      ]
    },
    {
      "cell_type": "markdown",
      "metadata": {
        "id": "ezbWeXARO_C0",
        "colab_type": "text"
      },
      "source": [
        "#### CTC Loss Layer\n",
        "\n",
        "You can learn more about CTC Loss in this [awesome blog post](https://app.wandb.ai/authors/text-recognition-crnn-ctc/reports/Text-Recognition-with-CRNN-CTC-Network--VmlldzoxNTI5NDI)."
      ]
    },
    {
      "cell_type": "code",
      "metadata": {
        "id": "MzyiMxNoH_vt",
        "colab_type": "code",
        "colab": {}
      },
      "source": [
        "## Ref: https://keras.io/examples/vision/captcha_ocr/\n",
        "class CTCLayer(Layer):\n",
        "  def __init__(self, name=None):\n",
        "\n",
        "      super().__init__(name=name)\n",
        "      self.loss_fn = tf.keras.backend.ctc_batch_cost\n",
        "\n",
        "  def call(self, y_true, y_pred):\n",
        "      # Compute the training-time loss value and add it\n",
        "      # to the layer using `self.add_loss()`.\n",
        "\n",
        "      batch_len = tf.cast(tf.shape(y_true)[0], dtype=\"int64\")\n",
        "      input_length = tf.cast(tf.shape(y_pred)[1], dtype=\"int64\")\n",
        "      label_length = tf.cast(tf.shape(y_true)[1], dtype=\"int64\")\n",
        "\n",
        "      input_length = input_length * tf.ones(shape=(batch_len, 1), dtype=\"int64\")\n",
        "      label_length = label_length * tf.ones(shape=(batch_len, 1), dtype=\"int64\")\n",
        "\n",
        "      loss = self.loss_fn(y_true, y_pred, input_length, label_length)\n",
        "      self.add_loss(loss)\n",
        "\n",
        "      # At test time, just return the computed predictions\n",
        "      return y_pred\n",
        "      "
      ],
      "execution_count": null,
      "outputs": []
    },
    {
      "cell_type": "markdown",
      "metadata": {
        "id": "Uun36GxI9G6V",
        "colab_type": "text"
      },
      "source": [
        "#### Final Model\n",
        "\n",
        "##### Image Encoder\n",
        "\n",
        "* Take in image input\n",
        "* Get patches of shape `(PATCH_HEIGHT, PATCH_WIDTH, 1)`.\n",
        "* Feed patches to backbone CNN architecture to get embedding. \n",
        "* Wrap using `TimeDistributed`\n",
        "\n",
        "\n",
        "##### Recurrent Network\n",
        "\n",
        "* Takes in `TimeDistributed` sequence\n",
        "* Computes output"
      ]
    },
    {
      "cell_type": "code",
      "metadata": {
        "id": "2tJu9Yn5NNIt",
        "colab_type": "code",
        "colab": {}
      },
      "source": [
        "def ImagetoSequence():\n",
        "  # IMAGE ENCODER #\n",
        "  labels = Input(name=\"label\", shape=(None,), dtype=\"float32\")\n",
        "  image_input = Input(shape=(IMG_H, IMG_W), name=\"cnn_input\")\n",
        "  # reshape to add dimensions\n",
        "  image_reshaped = Reshape((IMG_H, IMG_W, 1))(image_input)\n",
        "  # extract patches of images\n",
        "  image_patches = Lambda(extract_patches)(image_reshaped)\n",
        "  # get CNN backbone architecture to get embedding for each patch\n",
        "  image_patch_encoder = ImagePatchEncoder()\n",
        "  # Wrapper allows to apply a layer to every temporal slice of an input.\n",
        "  time_wrapper = TimeDistributed(image_patch_encoder)(image_patches)\n",
        "\n",
        "  # RECURRENT NETWORK #\n",
        "  lstm_out = LSTM(128, return_sequences=True, name=\"lstm\")(time_wrapper)\n",
        "  softmax_output = Dense(NUM_CLASSES, activation='softmax', name=\"lstm_softmax\")(lstm_out)\n",
        "  # \n",
        "  output = CTCLayer(name=\"ctc_loss\")(labels, softmax_output)\n",
        "\n",
        "  return Model([image_input, labels], output)"
      ],
      "execution_count": null,
      "outputs": []
    },
    {
      "cell_type": "markdown",
      "metadata": {
        "id": "AFEYPgl3Qihf",
        "colab_type": "text"
      },
      "source": [
        "# Initialize Model"
      ]
    },
    {
      "cell_type": "code",
      "metadata": {
        "id": "WFnnEeoKIrYC",
        "colab_type": "code",
        "colab": {
          "base_uri": "https://localhost:8080/",
          "height": 479
        },
        "outputId": "eb41ffc7-e093-473a-bed7-89ee5c3dac4c"
      },
      "source": [
        "tf.keras.backend.clear_session()\n",
        "model = ImagetoSequence()\n",
        "model.summary()"
      ],
      "execution_count": null,
      "outputs": [
        {
          "output_type": "stream",
          "text": [
            "Model: \"functional_1\"\n",
            "__________________________________________________________________________________________________\n",
            "Layer (type)                    Output Shape         Param #     Connected to                     \n",
            "==================================================================================================\n",
            "cnn_input (InputLayer)          [(None, 28, 896)]    0                                            \n",
            "__________________________________________________________________________________________________\n",
            "reshape (Reshape)               (None, 28, 896, 1)   0           cnn_input[0][0]                  \n",
            "__________________________________________________________________________________________________\n",
            "lambda (Lambda)                 (None, 63, 28, 20, 1 0           reshape[0][0]                    \n",
            "__________________________________________________________________________________________________\n",
            "time_distributed (TimeDistribut (None, 63, 6144)     18816       lambda[0][0]                     \n",
            "__________________________________________________________________________________________________\n",
            "lstm (LSTM)                     (None, 63, 128)      3211776     time_distributed[0][0]           \n",
            "__________________________________________________________________________________________________\n",
            "label (InputLayer)              [(None, None)]       0                                            \n",
            "__________________________________________________________________________________________________\n",
            "lstm_softmax (Dense)            (None, 63, 49)       6321        lstm[0][0]                       \n",
            "__________________________________________________________________________________________________\n",
            "ctc_loss (CTCLayer)             (None, 63, 49)       0           label[0][0]                      \n",
            "                                                                 lstm_softmax[0][0]               \n",
            "==================================================================================================\n",
            "Total params: 3,236,913\n",
            "Trainable params: 3,236,913\n",
            "Non-trainable params: 0\n",
            "__________________________________________________________________________________________________\n"
          ],
          "name": "stdout"
        }
      ]
    },
    {
      "cell_type": "markdown",
      "metadata": {
        "id": "asdJgVutPOsD",
        "colab_type": "text"
      },
      "source": [
        "# Compile Model"
      ]
    },
    {
      "cell_type": "code",
      "metadata": {
        "id": "LAuhDm8jm-Vg",
        "colab_type": "code",
        "colab": {}
      },
      "source": [
        "# compile the models\n",
        "model.compile(tf.keras.optimizers.Adam())"
      ],
      "execution_count": null,
      "outputs": []
    },
    {
      "cell_type": "markdown",
      "metadata": {
        "id": "QeR-dUwePUEf",
        "colab_type": "text"
      },
      "source": [
        "# Train Model with W&B"
      ]
    },
    {
      "cell_type": "code",
      "metadata": {
        "id": "ueJ3cunufae5",
        "colab_type": "code",
        "colab": {}
      },
      "source": [
        "early_stopper = tf.keras.callbacks.EarlyStopping(\n",
        "    monitor='val_loss', min_delta=0, patience=10, verbose=0, mode='auto', restore_best_weights=True)"
      ],
      "execution_count": null,
      "outputs": []
    },
    {
      "cell_type": "code",
      "metadata": {
        "id": "u4mQQ7i5nRU5",
        "colab_type": "code",
        "colab": {
          "base_uri": "https://localhost:8080/",
          "height": 1000
        },
        "outputId": "ee753e70-75bb-4fcd-b6ea-73c3f4a436c1"
      },
      "source": [
        "wandb.init(entity='wandb', project='emnist')\n",
        "\n",
        "_ = model.fit(trainloader,  \n",
        "                    validation_data=testloader,\n",
        "                    epochs=100,\n",
        "                    callbacks=[WandbCallback(),\n",
        "                               early_stopper])"
      ],
      "execution_count": null,
      "outputs": [
        {
          "output_type": "display_data",
          "data": {
            "text/html": [
              "\n",
              "                Logging results to <a href=\"https://wandb.com\" target=\"_blank\">Weights & Biases</a> <a href=\"https://docs.wandb.com/integrations/jupyter.html\" target=\"_blank\">(Documentation)</a>.<br/>\n",
              "                Project page: <a href=\"https://app.wandb.ai/wandb/emnist\" target=\"_blank\">https://app.wandb.ai/wandb/emnist</a><br/>\n",
              "                Run page: <a href=\"https://app.wandb.ai/wandb/emnist/runs/21vblhuz\" target=\"_blank\">https://app.wandb.ai/wandb/emnist/runs/21vblhuz</a><br/>\n",
              "            "
            ],
            "text/plain": [
              "<IPython.core.display.HTML object>"
            ]
          },
          "metadata": {
            "tags": []
          }
        },
        {
          "output_type": "stream",
          "text": [
            "Epoch 1/100\n",
            "63/63 [==============================] - 12s 193ms/step - loss: 95.8657 - val_loss: 68.0317\n",
            "Epoch 2/100\n",
            "63/63 [==============================] - 11s 178ms/step - loss: 46.3221 - val_loss: 36.0410\n",
            "Epoch 3/100\n",
            "63/63 [==============================] - 11s 177ms/step - loss: 27.7170 - val_loss: 24.6007\n",
            "Epoch 4/100\n",
            "63/63 [==============================] - 11s 174ms/step - loss: 19.5522 - val_loss: 19.2139\n",
            "Epoch 5/100\n",
            "63/63 [==============================] - 11s 174ms/step - loss: 15.6784 - val_loss: 16.3228\n",
            "Epoch 6/100\n",
            "63/63 [==============================] - 11s 172ms/step - loss: 13.3939 - val_loss: 14.4483\n",
            "Epoch 7/100\n",
            "63/63 [==============================] - 11s 174ms/step - loss: 11.9071 - val_loss: 13.4978\n",
            "Epoch 8/100\n",
            "63/63 [==============================] - 11s 172ms/step - loss: 10.7615 - val_loss: 12.1308\n",
            "Epoch 9/100\n",
            "63/63 [==============================] - 11s 176ms/step - loss: 9.8732 - val_loss: 11.3939\n",
            "Epoch 10/100\n",
            "63/63 [==============================] - 11s 171ms/step - loss: 9.1577 - val_loss: 10.7337\n",
            "Epoch 11/100\n",
            "63/63 [==============================] - 11s 176ms/step - loss: 8.5403 - val_loss: 10.2770\n",
            "Epoch 12/100\n",
            "63/63 [==============================] - 11s 171ms/step - loss: 8.0549 - val_loss: 9.7872\n",
            "Epoch 13/100\n",
            "63/63 [==============================] - 11s 172ms/step - loss: 7.5703 - val_loss: 9.4587\n",
            "Epoch 14/100\n",
            "63/63 [==============================] - 11s 174ms/step - loss: 7.2007 - val_loss: 9.1280\n",
            "Epoch 15/100\n",
            "63/63 [==============================] - 11s 171ms/step - loss: 6.8156 - val_loss: 8.9494\n",
            "Epoch 16/100\n",
            "63/63 [==============================] - 11s 172ms/step - loss: 6.5179 - val_loss: 8.6482\n",
            "Epoch 17/100\n",
            "63/63 [==============================] - 11s 173ms/step - loss: 6.1299 - val_loss: 8.4929\n",
            "Epoch 18/100\n",
            "63/63 [==============================] - 11s 172ms/step - loss: 5.9163 - val_loss: 8.2716\n",
            "Epoch 19/100\n",
            "63/63 [==============================] - 11s 174ms/step - loss: 5.6443 - val_loss: 8.1080\n",
            "Epoch 20/100\n",
            "63/63 [==============================] - 11s 173ms/step - loss: 5.4007 - val_loss: 7.9137\n",
            "Epoch 21/100\n",
            "63/63 [==============================] - 11s 171ms/step - loss: 5.1864 - val_loss: 7.9492\n",
            "Epoch 22/100\n",
            "63/63 [==============================] - 11s 170ms/step - loss: 4.9472 - val_loss: 7.7456\n",
            "Epoch 23/100\n",
            "63/63 [==============================] - 11s 172ms/step - loss: 4.7760 - val_loss: 7.5231\n",
            "Epoch 24/100\n",
            "63/63 [==============================] - 11s 170ms/step - loss: 4.5669 - val_loss: 7.5295\n",
            "Epoch 25/100\n",
            "63/63 [==============================] - 11s 174ms/step - loss: 4.3509 - val_loss: 7.4042\n",
            "Epoch 26/100\n",
            "63/63 [==============================] - 11s 176ms/step - loss: 4.1817 - val_loss: 7.2674\n",
            "Epoch 27/100\n",
            "63/63 [==============================] - 11s 174ms/step - loss: 4.0313 - val_loss: 7.2477\n",
            "Epoch 28/100\n",
            "63/63 [==============================] - 11s 174ms/step - loss: 3.8768 - val_loss: 7.0760\n",
            "Epoch 29/100\n",
            "63/63 [==============================] - 11s 178ms/step - loss: 3.6688 - val_loss: 7.0076\n",
            "Epoch 30/100\n",
            "63/63 [==============================] - 11s 175ms/step - loss: 3.5122 - val_loss: 6.9806\n",
            "Epoch 31/100\n",
            "63/63 [==============================] - 11s 173ms/step - loss: 3.3969 - val_loss: 6.8478\n",
            "Epoch 32/100\n",
            "63/63 [==============================] - 11s 176ms/step - loss: 3.2449 - val_loss: 6.8513\n",
            "Epoch 33/100\n",
            "63/63 [==============================] - 11s 172ms/step - loss: 3.0917 - val_loss: 6.9088\n",
            "Epoch 34/100\n",
            "63/63 [==============================] - 11s 173ms/step - loss: 2.9592 - val_loss: 6.7846\n",
            "Epoch 35/100\n",
            "63/63 [==============================] - 11s 173ms/step - loss: 2.8538 - val_loss: 6.7678\n",
            "Epoch 36/100\n",
            "63/63 [==============================] - 11s 174ms/step - loss: 2.7156 - val_loss: 6.7543\n",
            "Epoch 37/100\n",
            "63/63 [==============================] - 11s 174ms/step - loss: 2.6177 - val_loss: 6.6267\n",
            "Epoch 38/100\n",
            "63/63 [==============================] - 11s 172ms/step - loss: 2.5282 - val_loss: 6.6982\n",
            "Epoch 39/100\n",
            "63/63 [==============================] - 11s 171ms/step - loss: 2.4221 - val_loss: 6.7809\n",
            "Epoch 40/100\n",
            "63/63 [==============================] - 11s 171ms/step - loss: 2.3166 - val_loss: 6.5649\n",
            "Epoch 41/100\n",
            "63/63 [==============================] - 11s 170ms/step - loss: 2.2064 - val_loss: 6.5415\n",
            "Epoch 42/100\n",
            "63/63 [==============================] - 11s 170ms/step - loss: 2.0944 - val_loss: 6.7047\n",
            "Epoch 43/100\n",
            "63/63 [==============================] - 11s 172ms/step - loss: 2.0099 - val_loss: 6.6639\n",
            "Epoch 44/100\n",
            "63/63 [==============================] - 11s 173ms/step - loss: 1.9525 - val_loss: 6.5668\n",
            "Epoch 45/100\n",
            "63/63 [==============================] - 11s 171ms/step - loss: 1.8716 - val_loss: 6.5070\n",
            "Epoch 46/100\n",
            "63/63 [==============================] - 11s 170ms/step - loss: 1.7621 - val_loss: 6.6227\n",
            "Epoch 47/100\n",
            "63/63 [==============================] - 11s 170ms/step - loss: 1.6919 - val_loss: 6.6340\n",
            "Epoch 48/100\n",
            "63/63 [==============================] - 11s 172ms/step - loss: 1.6357 - val_loss: 6.6612\n",
            "Epoch 49/100\n",
            "63/63 [==============================] - 11s 172ms/step - loss: 1.5466 - val_loss: 6.5391\n",
            "Epoch 50/100\n",
            "63/63 [==============================] - 11s 171ms/step - loss: 1.4781 - val_loss: 6.5131\n",
            "Epoch 51/100\n",
            "63/63 [==============================] - 11s 173ms/step - loss: 1.4089 - val_loss: 6.5590\n",
            "Epoch 52/100\n",
            "63/63 [==============================] - 11s 171ms/step - loss: 1.3512 - val_loss: 6.6773\n",
            "Epoch 53/100\n",
            "63/63 [==============================] - 11s 170ms/step - loss: 1.3085 - val_loss: 6.6414\n",
            "Epoch 54/100\n",
            "63/63 [==============================] - 11s 172ms/step - loss: 1.2196 - val_loss: 6.6345\n",
            "Epoch 55/100\n",
            "63/63 [==============================] - 11s 172ms/step - loss: 1.1690 - val_loss: 6.5764\n"
          ],
          "name": "stdout"
        }
      ]
    },
    {
      "cell_type": "markdown",
      "metadata": {
        "id": "RbOx_WuMtYem",
        "colab_type": "text"
      },
      "source": [
        "#### Save your hard work"
      ]
    },
    {
      "cell_type": "code",
      "metadata": {
        "id": "QG6ooSDFfqcE",
        "colab_type": "code",
        "colab": {}
      },
      "source": [
        "model.save('emnist-nlp.h5')"
      ],
      "execution_count": null,
      "outputs": []
    },
    {
      "cell_type": "markdown",
      "metadata": {
        "id": "UngLxdFvtiXt",
        "colab_type": "text"
      },
      "source": [
        "# Prediction"
      ]
    },
    {
      "cell_type": "markdown",
      "metadata": {
        "id": "Veszg_ejudSQ",
        "colab_type": "text"
      },
      "source": [
        "#### Simplify Model for Inference"
      ]
    },
    {
      "cell_type": "code",
      "metadata": {
        "id": "RwpYiNI_uf-i",
        "colab_type": "code",
        "colab": {
          "base_uri": "https://localhost:8080/",
          "height": 386
        },
        "outputId": "6b90bf99-dbc1-4a62-9ef9-e6e17dd47157"
      },
      "source": [
        "# notice we are removing CTCLayer\n",
        "inference_model = Model(model.get_layer('cnn_input').input, model.get_layer('lstm_softmax').output)\n",
        "inference_model.summary()"
      ],
      "execution_count": null,
      "outputs": [
        {
          "output_type": "stream",
          "text": [
            "Model: \"functional_3\"\n",
            "_________________________________________________________________\n",
            "Layer (type)                 Output Shape              Param #   \n",
            "=================================================================\n",
            "cnn_input (InputLayer)       [(None, 28, 896)]         0         \n",
            "_________________________________________________________________\n",
            "reshape (Reshape)            (None, 28, 896, 1)        0         \n",
            "_________________________________________________________________\n",
            "lambda (Lambda)              (None, 63, 28, 20, 1)     0         \n",
            "_________________________________________________________________\n",
            "time_distributed (TimeDistri (None, 63, 6144)          18816     \n",
            "_________________________________________________________________\n",
            "lstm (LSTM)                  (None, 63, 128)           3211776   \n",
            "_________________________________________________________________\n",
            "lstm_softmax (Dense)         (None, 63, 49)            6321      \n",
            "=================================================================\n",
            "Total params: 3,236,913\n",
            "Trainable params: 3,236,913\n",
            "Non-trainable params: 0\n",
            "_________________________________________________________________\n"
          ],
          "name": "stdout"
        }
      ]
    },
    {
      "cell_type": "markdown",
      "metadata": {
        "id": "dBZC4UPhwQKg",
        "colab_type": "text"
      },
      "source": [
        "#### Get Predictions"
      ]
    },
    {
      "cell_type": "code",
      "metadata": {
        "id": "vFyStXxLvI5X",
        "colab_type": "code",
        "colab": {}
      },
      "source": [
        "(val_images, val_labels), _ = next(iter(testloader))"
      ],
      "execution_count": null,
      "outputs": []
    },
    {
      "cell_type": "code",
      "metadata": {
        "id": "SMQt-H77wwH9",
        "colab_type": "code",
        "colab": {}
      },
      "source": [
        "def get_prediction(val_images, val_labels):\n",
        "    # get prediction probability \n",
        "    predictions = inference_model.predict(val_images)\n",
        "    # get argmax\n",
        "    pred_indices = np.argmax(predictions, axis=2)\n",
        "    \n",
        "    actual_text_list = []\n",
        "    pred_text_list = []\n",
        "\n",
        "    for i in range(val_images.shape[0]):\n",
        "        ans = \"\"\n",
        "        pred_ans = \"\"\n",
        "\n",
        "        # get actual text\n",
        "        for p in val_labels[i].numpy():\n",
        "            if p in mappings.keys():\n",
        "              ans+=mappings[p]\n",
        "\n",
        "        # get predicted text from image\n",
        "        merged_list = [k for k,_ in groupby(pred_indices[i])]\n",
        "        for p in merged_list:\n",
        "            if p in mappings.keys():\n",
        "              pred_ans+=mappings[p]\n",
        "\n",
        "        actual_text_list.append(ans)\n",
        "        pred_text_list.append(pred_ans)\n",
        "\n",
        "    return actual_text_list, pred_text_list"
      ],
      "execution_count": null,
      "outputs": []
    },
    {
      "cell_type": "code",
      "metadata": {
        "id": "7k2LlgTP1TuI",
        "colab_type": "code",
        "colab": {}
      },
      "source": [
        "actual_text, predicted_text = get_prediction(val_images, val_labels)"
      ],
      "execution_count": null,
      "outputs": []
    },
    {
      "cell_type": "code",
      "metadata": {
        "id": "3NfaOBJ6Yiub",
        "colab_type": "code",
        "colab": {}
      },
      "source": [
        "table = wandb.Table(columns=[\"Actual Text\", \"Predicted Text\"])\n",
        "for act_text, pred_text in zip(actual_text, predicted_text):\n",
        "    table.add_data(act_text, pred_text)\n",
        "\n",
        "wandb.log({\"emnist-nlp\": table})"
      ],
      "execution_count": null,
      "outputs": []
    },
    {
      "cell_type": "code",
      "metadata": {
        "id": "wzSdAkt4d_xB",
        "colab_type": "code",
        "colab": {}
      },
      "source": [
        "wandb.log({\"images\": [wandb.Image(np.expand_dims(image, axis=2))\n",
        "                            for image in val_images]})"
      ],
      "execution_count": null,
      "outputs": []
    }
  ]
}