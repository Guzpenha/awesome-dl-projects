{
  "nbformat": 4,
  "nbformat_minor": 0,
  "metadata": {
    "colab": {
      "name": "EMNIST NLP",
      "provenance": [],
      "toc_visible": true,
      "authorship_tag": "ABX9TyMohBCMz+k1RkZr6+lDvr04",
      "include_colab_link": true
    },
    "kernelspec": {
      "name": "python3",
      "display_name": "Python 3"
    },
    "accelerator": "GPU"
  },
  "cells": [
    {
      "cell_type": "markdown",
      "metadata": {
        "id": "view-in-github",
        "colab_type": "text"
      },
      "source": [
        "<a href=\"https://colab.research.google.com/github/wandb/awesome-dl-projects/blob/master/ml-tutorial/EMNIST_NLP.ipynb\" target=\"_parent\"><img src=\"https://colab.research.google.com/assets/colab-badge.svg\" alt=\"Open In Colab\"/></a>"
      ]
    },
    {
      "cell_type": "markdown",
      "metadata": {
        "id": "LHCCGutqrj-r",
        "colab_type": "text"
      },
      "source": [
        "# Imports and Setups"
      ]
    },
    {
      "cell_type": "code",
      "metadata": {
        "id": "qiFYfrVpXbAP",
        "colab_type": "code",
        "colab": {
          "base_uri": "https://localhost:8080/",
          "height": 386
        },
        "outputId": "a3c7303a-d432-40a8-a432-e66ff22b75a2"
      },
      "source": [
        "!nvidia-smi"
      ],
      "execution_count": 1,
      "outputs": [
        {
          "output_type": "stream",
          "text": [
            "Tue Sep  8 03:18:38 2020       \n",
            "+-----------------------------------------------------------------------------+\n",
            "| NVIDIA-SMI 450.66       Driver Version: 418.67       CUDA Version: 10.1     |\n",
            "|-------------------------------+----------------------+----------------------+\n",
            "| GPU  Name        Persistence-M| Bus-Id        Disp.A | Volatile Uncorr. ECC |\n",
            "| Fan  Temp  Perf  Pwr:Usage/Cap|         Memory-Usage | GPU-Util  Compute M. |\n",
            "|                               |                      |               MIG M. |\n",
            "|===============================+======================+======================|\n",
            "|   0  Tesla T4            Off  | 00000000:00:04.0 Off |                    0 |\n",
            "| N/A   48C    P8    10W /  70W |      0MiB / 15079MiB |      0%      Default |\n",
            "|                               |                      |                 ERR! |\n",
            "+-------------------------------+----------------------+----------------------+\n",
            "                                                                               \n",
            "+-----------------------------------------------------------------------------+\n",
            "| Processes:                                                                  |\n",
            "|  GPU   GI   CI        PID   Type   Process name                  GPU Memory |\n",
            "|        ID   ID                                                   Usage      |\n",
            "|=============================================================================|\n",
            "|  No running processes found                                                 |\n",
            "+-----------------------------------------------------------------------------+\n"
          ],
          "name": "stdout"
        }
      ]
    },
    {
      "cell_type": "code",
      "metadata": {
        "id": "eGY8OiyGpN-x",
        "colab_type": "code",
        "colab": {
          "base_uri": "https://localhost:8080/",
          "height": 92
        },
        "outputId": "39661dcd-a446-4c14-b39b-4eff0609a379"
      },
      "source": [
        "import tensorflow as tf\n",
        "print(tf.__version__)\n",
        "\n",
        "from tensorflow.keras.layers import *\n",
        "from tensorflow.keras.models import *\n",
        "import tensorflow_datasets as tfds\n",
        "\n",
        "import numpy as np\n",
        "import matplotlib.pyplot as plt\n",
        "\n",
        "%matplotlib inline\n",
        "tfds.disable_progress_bar()\n",
        "\n",
        "import csv\n",
        "import string\n",
        "import pathlib\n",
        "import gzip\n",
        "from tqdm import tqdm\n",
        "import seaborn as sns\n",
        "from itertools import groupby\n",
        "\n",
        "from sklearn.utils import shuffle"
      ],
      "execution_count": 2,
      "outputs": [
        {
          "output_type": "stream",
          "text": [
            "2.3.0\n"
          ],
          "name": "stdout"
        },
        {
          "output_type": "stream",
          "text": [
            "/usr/local/lib/python3.6/dist-packages/statsmodels/tools/_testing.py:19: FutureWarning: pandas.util.testing is deprecated. Use the functions in the public API at pandas.testing instead.\n",
            "  import pandas.util.testing as tm\n"
          ],
          "name": "stderr"
        }
      ]
    },
    {
      "cell_type": "code",
      "metadata": {
        "id": "HqUfAaLR7H4F",
        "colab_type": "code",
        "colab": {}
      },
      "source": [
        "%%capture\n",
        "!pip install wandb"
      ],
      "execution_count": 3,
      "outputs": []
    },
    {
      "cell_type": "code",
      "metadata": {
        "id": "3GeVDMnA7LOr",
        "colab_type": "code",
        "colab": {
          "base_uri": "https://localhost:8080/",
          "height": 71
        },
        "outputId": "9786d665-f901-4ac5-83c3-58862bb3ff5b"
      },
      "source": [
        "import wandb\n",
        "from wandb.keras import WandbCallback\n",
        "\n",
        "wandb.login()"
      ],
      "execution_count": 4,
      "outputs": [
        {
          "output_type": "display_data",
          "data": {
            "application/javascript": [
              "\n",
              "        window._wandbApiKey = new Promise((resolve, reject) => {\n",
              "            function loadScript(url) {\n",
              "            return new Promise(function(resolve, reject) {\n",
              "                let newScript = document.createElement(\"script\");\n",
              "                newScript.onerror = reject;\n",
              "                newScript.onload = resolve;\n",
              "                document.body.appendChild(newScript);\n",
              "                newScript.src = url;\n",
              "            });\n",
              "            }\n",
              "            loadScript(\"https://cdn.jsdelivr.net/npm/postmate/build/postmate.min.js\").then(() => {\n",
              "            const iframe = document.createElement('iframe')\n",
              "            iframe.style.cssText = \"width:0;height:0;border:none\"\n",
              "            document.body.appendChild(iframe)\n",
              "            const handshake = new Postmate({\n",
              "                container: iframe,\n",
              "                url: 'https://app.wandb.ai/authorize'\n",
              "            });\n",
              "            const timeout = setTimeout(() => reject(\"Couldn't auto authenticate\"), 5000)\n",
              "            handshake.then(function(child) {\n",
              "                child.on('authorize', data => {\n",
              "                    clearTimeout(timeout)\n",
              "                    resolve(data)\n",
              "                });\n",
              "            });\n",
              "            })\n",
              "        });\n",
              "    "
            ],
            "text/plain": [
              "<IPython.core.display.Javascript object>"
            ]
          },
          "metadata": {
            "tags": []
          }
        },
        {
          "output_type": "stream",
          "text": [
            "\u001b[34m\u001b[1mwandb\u001b[0m: Appending key for api.wandb.ai to your netrc file: /root/.netrc\n"
          ],
          "name": "stderr"
        },
        {
          "output_type": "execute_result",
          "data": {
            "text/plain": [
              "True"
            ]
          },
          "metadata": {
            "tags": []
          },
          "execution_count": 4
        }
      ]
    },
    {
      "cell_type": "markdown",
      "metadata": {
        "id": "p9VJbZx9g9Uz",
        "colab_type": "text"
      },
      "source": [
        "# Download Dataset"
      ]
    },
    {
      "cell_type": "markdown",
      "metadata": {
        "id": "WHw1hCpYg_1R",
        "colab_type": "text"
      },
      "source": [
        "#### Wiki-split dataset"
      ]
    },
    {
      "cell_type": "code",
      "metadata": {
        "id": "4SOyIXEHnI4p",
        "colab_type": "code",
        "colab": {
          "base_uri": "https://localhost:8080/",
          "height": 91
        },
        "outputId": "e49ea0c0-8bfb-47c2-ab1d-ebd2ba97bedf"
      },
      "source": [
        "!git clone https://github.com/google-research-datasets/wiki-split"
      ],
      "execution_count": 5,
      "outputs": [
        {
          "output_type": "stream",
          "text": [
            "Cloning into 'wiki-split'...\n",
            "remote: Enumerating objects: 32, done.\u001b[K\n",
            "remote: Total 32 (delta 0), reused 0 (delta 0), pack-reused 32\u001b[K\n",
            "Unpacking objects: 100% (32/32), done.\n"
          ],
          "name": "stdout"
        }
      ]
    },
    {
      "cell_type": "markdown",
      "metadata": {
        "id": "Ewq14NyxhId2",
        "colab_type": "text"
      },
      "source": [
        "> Side Note: We will be using `test.tsv` for our experiment to speed up the process."
      ]
    },
    {
      "cell_type": "markdown",
      "metadata": {
        "id": "gcRbRClXjBq1",
        "colab_type": "text"
      },
      "source": [
        "#### EMNIST/Bymerge Dataset"
      ]
    },
    {
      "cell_type": "code",
      "metadata": {
        "id": "0qrzBv-XjFiQ",
        "colab_type": "code",
        "colab": {
          "base_uri": "https://localhost:8080/",
          "height": 148
        },
        "outputId": "6f6348f1-3876-4ca3-ce42-7fd54e38e2cd"
      },
      "source": [
        "# Gather EMNIST/bymerge dataset\n",
        "train_ds, validation_ds = tfds.load(\n",
        "    \"emnist/bymerge\",\n",
        "    split=[\"train[:85%]\", \"train[85%:]\"],\n",
        "    as_supervised=True\n",
        ")"
      ],
      "execution_count": 6,
      "outputs": [
        {
          "output_type": "stream",
          "text": [
            "\u001b[1mDownloading and preparing dataset emnist/bymerge/3.0.0 (download: 535.73 MiB, generated: Unknown size, total: 535.73 MiB) to /root/tensorflow_datasets/emnist/bymerge/3.0.0...\u001b[0m\n"
          ],
          "name": "stdout"
        },
        {
          "output_type": "stream",
          "text": [
            "/usr/local/lib/python3.6/dist-packages/urllib3/connectionpool.py:847: InsecureRequestWarning: Unverified HTTPS request is being made. Adding certificate verification is strongly advised. See: https://urllib3.readthedocs.io/en/latest/advanced-usage.html#ssl-warnings\n",
            "  InsecureRequestWarning)\n"
          ],
          "name": "stderr"
        },
        {
          "output_type": "stream",
          "text": [
            "Shuffling and writing examples to /root/tensorflow_datasets/emnist/bymerge/3.0.0.incompleteYVGGB4/emnist-train.tfrecord\n",
            "Shuffling and writing examples to /root/tensorflow_datasets/emnist/bymerge/3.0.0.incompleteYVGGB4/emnist-test.tfrecord\n",
            "\u001b[1mDataset emnist downloaded and prepared to /root/tensorflow_datasets/emnist/bymerge/3.0.0. Subsequent calls will reuse this data.\u001b[0m\n"
          ],
          "name": "stdout"
        }
      ]
    },
    {
      "cell_type": "markdown",
      "metadata": {
        "id": "8Of-n4NypN_4",
        "colab_type": "text"
      },
      "source": [
        "# Load Data, Clean it and preprocess"
      ]
    },
    {
      "cell_type": "code",
      "metadata": {
        "id": "0Av4Db7lpN_8",
        "colab_type": "code",
        "colab": {
          "base_uri": "https://localhost:8080/",
          "height": 54
        },
        "outputId": "9c180f3b-3a38-427d-a3e0-0d99eee0c759"
      },
      "source": [
        "raw_sentences = []  # empty list to store sentences\n",
        "with open(\"wiki-split/test.tsv\", \"r\") as f:\n",
        "    reader = csv.reader(f, delimiter='\\t')  # read a tsv file\n",
        "    for row in tqdm(reader):\n",
        "        raw_sentences.extend(row[1].split(\"<::::>\"))\n",
        "print(\"Total Sentences: \", len(raw_sentences))"
      ],
      "execution_count": 7,
      "outputs": [
        {
          "output_type": "stream",
          "text": [
            "5000it [00:00, 155032.23it/s]"
          ],
          "name": "stderr"
        },
        {
          "output_type": "stream",
          "text": [
            "Total Sentences:  10000\n"
          ],
          "name": "stdout"
        },
        {
          "output_type": "stream",
          "text": [
            "\n"
          ],
          "name": "stderr"
        }
      ]
    },
    {
      "cell_type": "code",
      "metadata": {
        "id": "0C-5foj6pOAN",
        "colab_type": "code",
        "colab": {
          "base_uri": "https://localhost:8080/",
          "height": 74
        },
        "outputId": "d7225589-cc49-483a-b566-022184aa432e"
      },
      "source": [
        "# Some samples\n",
        "print(raw_sentences[99], '\\n', raw_sentences[100])"
      ],
      "execution_count": 8,
      "outputs": [
        {
          "output_type": "stream",
          "text": [
            " He was was arrested and booked on charges of first - degree murder and first - degree robbery . \n",
            " A 2006 estimate by the International Organization for Migration put the number of Sudanese people in the UK at a much higher figure . \n"
          ],
          "name": "stdout"
        }
      ]
    },
    {
      "cell_type": "markdown",
      "metadata": {
        "id": "mIPqzykIkXxd",
        "colab_type": "text"
      },
      "source": [
        "#### Remove punctuations"
      ]
    },
    {
      "cell_type": "code",
      "metadata": {
        "id": "-HtS5z3MpOAe",
        "colab_type": "code",
        "colab": {
          "base_uri": "https://localhost:8080/",
          "height": 54
        },
        "outputId": "12d35e33-003d-4913-f352-76f62dd8466c"
      },
      "source": [
        "# As we see there are lots of punctuations which we dont have in EMNIST, so we are going to remove them, \n",
        "# and replace multiple spaces with one\n",
        "import re\n",
        "\n",
        "sentences = []\n",
        "table = str.maketrans({key: None for key in string.punctuation})  # translation table\n",
        "\n",
        "for sentence in raw_sentences:\n",
        "    # remove punctuation and non-ascii characters\n",
        "    clean_sentence = re.sub('  +', ' ', sentence.translate(table)).\\\n",
        "                        encode(\"ascii\", 'ignore').decode()  \n",
        "    sentences.append(clean_sentence.strip())  # add to clean sentences\n",
        "    \n",
        "print(sentences[99], '\\n', raw_sentences[99])  # to verify"
      ],
      "execution_count": 9,
      "outputs": [
        {
          "output_type": "stream",
          "text": [
            "He was was arrested and booked on charges of first degree murder and first degree robbery \n",
            "  He was was arrested and booked on charges of first - degree murder and first - degree robbery .\n"
          ],
          "name": "stdout"
        }
      ]
    },
    {
      "cell_type": "code",
      "metadata": {
        "id": "4DxGdQ087p1V",
        "colab_type": "code",
        "colab": {
          "base_uri": "https://localhost:8080/",
          "height": 35
        },
        "outputId": "e87280c8-2c8f-4db9-9f50-5be1a2e0a99e"
      },
      "source": [
        "print('Number of sentences', len(sentences))"
      ],
      "execution_count": 10,
      "outputs": [
        {
          "output_type": "stream",
          "text": [
            "Number of sentences 10000\n"
          ],
          "name": "stdout"
        }
      ]
    },
    {
      "cell_type": "markdown",
      "metadata": {
        "id": "lwUb0KtemeK3",
        "colab_type": "text"
      },
      "source": [
        "#### EMNIST Labels"
      ]
    },
    {
      "cell_type": "code",
      "metadata": {
        "id": "oSXgQqsOEF38",
        "colab_type": "code",
        "colab": {
          "base_uri": "https://localhost:8080/",
          "height": 35
        },
        "outputId": "1fa42c4c-c317-46f7-da47-c7fa4068d6ae"
      },
      "source": [
        "MAPPINGS = ['0', '1', '2', '3', '4', '5', '6', '7', '8', '9', \n",
        "          'A', 'B', 'C', 'D', 'E', 'F', 'G', 'H', 'I', 'J', 'K', 'L', 'M', 'N', 'O', 'P', 'Q', 'R', 'S', 'T', 'U', 'V', 'W', 'X', 'Y', 'Z',\n",
        "          'a', 'b', 'd', 'e', 'f', 'g', 'h', 'n', 'q', 'r', 't']\n",
        "\n",
        "print(len(MAPPINGS))"
      ],
      "execution_count": 11,
      "outputs": [
        {
          "output_type": "stream",
          "text": [
            "47\n"
          ],
          "name": "stdout"
        }
      ]
    },
    {
      "cell_type": "markdown",
      "metadata": {
        "id": "USfu5WfonDPZ",
        "colab_type": "text"
      },
      "source": [
        "#### Dataloader for EMNIST"
      ]
    },
    {
      "cell_type": "code",
      "metadata": {
        "id": "WE7sVKVPEJzK",
        "colab_type": "code",
        "colab": {}
      },
      "source": [
        "AUTO = tf.data.experimental.AUTOTUNE\n",
        "BATCH_SIZE = 256\n",
        "\n",
        "## We are transposing to rotate the image by 90 deg clockwise making the images human friendly.\n",
        "def transpose(image, label):\n",
        "  image = tf.image.convert_image_dtype(image, dtype=tf.float32) # scale image pixels to [0,1]\n",
        "  image = tf.transpose(image, [1,0,2]) # transpose to get human friendly image, since rotation\n",
        "  return image, label\n",
        "\n",
        "trainloader = (\n",
        "    train_ds\n",
        "    .shuffle(1024)\n",
        "    .map(transpose, num_parallel_calls=AUTO)\n",
        "    .prefetch(AUTO)\n",
        ")"
      ],
      "execution_count": 12,
      "outputs": []
    },
    {
      "cell_type": "code",
      "metadata": {
        "id": "Exo6ceZ1EJv0",
        "colab_type": "code",
        "colab": {
          "base_uri": "https://localhost:8080/",
          "height": 591
        },
        "outputId": "7148060a-9806-4749-d594-dccd05aa6a9f"
      },
      "source": [
        "plt.figure(figsize=(10, 10))\n",
        "n = 0\n",
        "for img, label in trainloader.take(25):\n",
        "    ax = plt.subplot(5, 5, n+1)\n",
        "    plt.imshow(tf.reshape(img, (28,28)), cmap='gray')\n",
        "    plt.title(MAPPINGS[int(label.numpy())])\n",
        "    plt.axis('off')\n",
        "    n+=1"
      ],
      "execution_count": 13,
      "outputs": [
        {
          "output_type": "display_data",
          "data": {
            "image/png": "[encoded data removed]",
            "text/plain": [
              "<Figure size 720x720 with 25 Axes>"
            ]
          },
          "metadata": {
            "tags": [],
            "needs_background": "light"
          }
        }
      ]
    },
    {
      "cell_type": "markdown",
      "metadata": {
        "id": "TiVoXehQnsOB",
        "colab_type": "text"
      },
      "source": [
        "#### Get all the images in an array"
      ]
    },
    {
      "cell_type": "code",
      "metadata": {
        "id": "3BZDQWDjRlXv",
        "colab_type": "code",
        "colab": {
          "base_uri": "https://localhost:8080/",
          "height": 35
        },
        "outputId": "6d141879-4094-47eb-f0e9-2ca307e74def"
      },
      "source": [
        "IMAGES = []\n",
        "LABELS = []\n",
        "\n",
        "for img, label in tqdm(trainloader):\n",
        "    IMAGES.append(tf.reshape(img, (28,28)).numpy())\n",
        "    LABELS.append(label.numpy())\n",
        "\n",
        "IMAGES = np.array(IMAGES)\n",
        "LABELS = np.array(LABELS)"
      ],
      "execution_count": 14,
      "outputs": [
        {
          "output_type": "stream",
          "text": [
            "593242it [08:06, 1219.23it/s]\n"
          ],
          "name": "stderr"
        }
      ]
    },
    {
      "cell_type": "markdown",
      "metadata": {
        "id": "75WCj0tmqIwo",
        "colab_type": "text"
      },
      "source": [
        "#### Index Images"
      ]
    },
    {
      "cell_type": "code",
      "metadata": {
        "id": "Th2nVHDvVYiG",
        "colab_type": "code",
        "colab": {
          "base_uri": "https://localhost:8080/",
          "height": 35
        },
        "outputId": "d3b40d7a-4770-48dc-bf9b-42f2555d5508"
      },
      "source": [
        "image_index = {}  # where key is the char and value is a list of IDs\n",
        "for idx, label in tqdm(enumerate(LABELS)):\n",
        "    char = MAPPINGS[label]\n",
        "    if char in image_index:\n",
        "        # this character already exists\n",
        "        image_index[char].append(idx) # append index\n",
        "    else:\n",
        "        image_index[char] = [idx]  # initiate list with 1 item"
      ],
      "execution_count": 15,
      "outputs": [
        {
          "output_type": "stream",
          "text": [
            "593242it [00:00, 1426612.32it/s]\n"
          ],
          "name": "stderr"
        }
      ]
    },
    {
      "cell_type": "markdown",
      "metadata": {
        "id": "jMWtqzPdqbO_",
        "colab_type": "text"
      },
      "source": [
        "# Utils to generate image from text"
      ]
    },
    {
      "cell_type": "code",
      "metadata": {
        "id": "A0bAc0kPXf9j",
        "colab_type": "code",
        "colab": {}
      },
      "source": [
        "def get_sample_sentences(sentences_in=sentences, num_sentence=10):\n",
        "    # Get a defined number of sentences from the data\n",
        "    return np.random.choice(sentences_in, num_sentence)\n",
        "\n",
        "def get_generated_image(words, chars=IMAGES, index=image_index):\n",
        "    # words is string of char/numbers that needs to be converted into an image\n",
        "    # chars is a data set of images that need to be used to compose, usually pass in train['features'] in here\n",
        "    # index maps a character to indexes in the images, available as dictionary\n",
        "    height, width = IMAGES[0].shape # height and width of each character\n",
        "    length = len(words) # total number of characters in the image\n",
        "    \n",
        "    # create an empty array to store the data\n",
        "    image = np.zeros((height, width * length))\n",
        "    pos = 0  # starting index of the character\n",
        "    \n",
        "    for char in words:\n",
        "        if char is ' ':\n",
        "            pos += width # if space, move over\n",
        "        else:\n",
        "            if char in image_index:\n",
        "                # pick a random item from all images for that char\n",
        "                idx = np.random.choice(image_index[char])  \n",
        "                image[:, pos:(pos+width)] += chars[idx]\n",
        "            elif char.upper() in image_index:  # to remove characters from other languages\n",
        "                # for some characters, there is only upper case\n",
        "                idx = np.random.choice(image_index[char.upper()])  \n",
        "                image[:, pos:(pos+width)] += chars[idx]\n",
        "            \n",
        "            pos += width\n",
        "    \n",
        "    return image"
      ],
      "execution_count": 16,
      "outputs": []
    },
    {
      "cell_type": "markdown",
      "metadata": {
        "id": "ASm9g8-_qsFR",
        "colab_type": "text"
      },
      "source": [
        "#### Check one sample"
      ]
    },
    {
      "cell_type": "code",
      "metadata": {
        "id": "9buIC1YVX1g4",
        "colab_type": "code",
        "colab": {
          "base_uri": "https://localhost:8080/",
          "height": 76
        },
        "outputId": "ced0f134-9fb5-4f34-d02b-3b96569ca113"
      },
      "source": [
        "# Let's print a sample to see how it looks\n",
        "s = get_sample_sentences(sentences, 1)\n",
        "print(s)\n",
        "img = get_generated_image(s[0])\n",
        "plt.figure(figsize=(9,2))\n",
        "plt.imshow(img, cmap='gray')\n",
        "plt.show()"
      ],
      "execution_count": 17,
      "outputs": [
        {
          "output_type": "stream",
          "text": [
            "['The poor soils of New Caledonia promote a restriction in large ground dwelling prey']\n"
          ],
          "name": "stdout"
        },
        {
          "output_type": "display_data",
          "data": {
            "image/png": "[encoded data removed]",
            "text/plain": [
              "<Figure size 648x144 with 1 Axes>"
            ]
          },
          "metadata": {
            "tags": [],
            "needs_background": "light"
          }
        }
      ]
    },
    {
      "cell_type": "markdown",
      "metadata": {
        "id": "7EzTHffnrEo4",
        "colab_type": "text"
      },
      "source": [
        "# Build Training Dataset"
      ]
    },
    {
      "cell_type": "code",
      "metadata": {
        "id": "1IEJhTF3YEg4",
        "colab_type": "code",
        "colab": {}
      },
      "source": [
        "train_sentences = sentences[:2000]\n",
        "test_sentences = sentences[2000:2500]\n",
        "\n",
        "# Lets assume that for each training sample, 2 variants will be generated\n",
        "\n",
        "def generate_sentences(texts, chars, \n",
        "                           index, num_variants=2, max_length=32):\n",
        "    # this method takes input text lines, character samples and labels\n",
        "    # and generates images. It can generate multiple images per sentence\n",
        "    # as controlled by num_variants parameter. max_length parameter\n",
        "    # ensures that all sentences are the same length\n",
        "    \n",
        "    # total number of samples to generate\n",
        "    num_samples = len(texts) * num_variants\n",
        "    height, width = chars[0].shape  # shape of image\n",
        "    \n",
        "    # setup empty array of the images\n",
        "    images = np.zeros((num_samples, height, width * max_length), np.float64)\n",
        "    labels = []\n",
        "    \n",
        "    for i, item in tqdm(enumerate(texts)):\n",
        "        padded_item = item[0:max_length] if (len(item) > max_length) else item.ljust(max_length, ' ')\n",
        "        \n",
        "        for v in range(num_variants):\n",
        "            img = get_generated_image(padded_item, chars, index)\n",
        "            images[i*num_variants+v, :, :] += img\n",
        "            labels.append(padded_item)\n",
        "    \n",
        "    return images, labels"
      ],
      "execution_count": 18,
      "outputs": []
    },
    {
      "cell_type": "code",
      "metadata": {
        "id": "317adGptYcs5",
        "colab_type": "code",
        "colab": {
          "base_uri": "https://localhost:8080/",
          "height": 54
        },
        "outputId": "caf3ab5e-1e4d-45c9-f437-435aaa24eff5"
      },
      "source": [
        "train_images, train_labels = generate_sentences(train_sentences, IMAGES, image_index)\n",
        "test_images, test_labels = generate_sentences(test_sentences, IMAGES, image_index)\n",
        "\n",
        "train_images, train_labels = shuffle(train_images, train_labels)\n",
        "test_images, test_labels = shuffle(test_images, test_labels)"
      ],
      "execution_count": 19,
      "outputs": [
        {
          "output_type": "stream",
          "text": [
            "2000it [02:28, 13.43it/s]\n",
            "500it [00:37, 13.44it/s]\n"
          ],
          "name": "stderr"
        }
      ]
    },
    {
      "cell_type": "markdown",
      "metadata": {
        "colab_type": "text",
        "id": "jgEJHI4CsUvY"
      },
      "source": [
        "#### Check one sample"
      ]
    },
    {
      "cell_type": "code",
      "metadata": {
        "id": "FZvWNvk4Y1z_",
        "colab_type": "code",
        "colab": {
          "base_uri": "https://localhost:8080/",
          "height": 85
        },
        "outputId": "6bd80504-953a-47eb-e7bf-6f46cd11eb9b"
      },
      "source": [
        "# Sample some to check\n",
        "idx=0\n",
        "print(train_labels[idx])\n",
        "plt.figure(figsize=(9,2))\n",
        "plt.imshow(train_images[idx], cmap='gray');\n",
        "plt.show()"
      ],
      "execution_count": 20,
      "outputs": [
        {
          "output_type": "stream",
          "text": [
            "Their music is also featured in \n"
          ],
          "name": "stdout"
        },
        {
          "output_type": "display_data",
          "data": {
            "image/png": "[encoded data removed]",
            "text/plain": [
              "<Figure size 648x144 with 1 Axes>"
            ]
          },
          "metadata": {
            "tags": [],
            "needs_background": "light"
          }
        }
      ]
    },
    {
      "cell_type": "markdown",
      "metadata": {
        "id": "VmgFAVAFr_1u",
        "colab_type": "text"
      },
      "source": [
        "#### Save Dataset"
      ]
    },
    {
      "cell_type": "code",
      "metadata": {
        "id": "qiEyviXGa32C",
        "colab_type": "code",
        "colab": {}
      },
      "source": [
        "# Now to save these models for easy loading\n",
        "pp = pathlib.Path('.') / 'sentences'\n",
        "pp.mkdir(exist_ok=True)  # create the directory\n",
        "\n",
        "np.save(pp / 'train_images', train_images)\n",
        "np.save(pp / 'test_images', test_images)\n",
        "np.save(pp / 'train_labels', train_labels)\n",
        "np.save(pp / 'test_labels', test_labels)"
      ],
      "execution_count": 21,
      "outputs": []
    },
    {
      "cell_type": "markdown",
      "metadata": {
        "id": "j8kQvdfl-Ox1",
        "colab_type": "text"
      },
      "source": [
        "# Prepare Training Dataset(Label)"
      ]
    },
    {
      "cell_type": "code",
      "metadata": {
        "id": "qDw__t1Jlk-8",
        "colab_type": "code",
        "colab": {}
      },
      "source": [
        "# create a dictionary of mapping from \n",
        "mappings = dict(zip(np.arange(0, 47), MAPPINGS))\n",
        "# add a space for spacing words\n",
        "mappings[47] = ' '\n",
        "# inverse: character as key and value as it's integer encoding\n",
        "inverse_mappings = {v: k for k, v in mappings.items()}"
      ],
      "execution_count": 22,
      "outputs": []
    },
    {
      "cell_type": "code",
      "metadata": {
        "id": "SxCE4CgilaPA",
        "colab_type": "code",
        "colab": {
          "base_uri": "https://localhost:8080/",
          "height": 111
        },
        "outputId": "e64fb84c-4655-446c-ec03-770b5e01b6f8"
      },
      "source": [
        "# now convert categorical labels from the sentences\n",
        "encode = lambda x: [inverse_mappings[xi] if xi in inverse_mappings else inverse_mappings[xi.upper()] for xi in x]\n",
        "decode = lambda x: [mappings[xi] for xi in x]\n",
        "\n",
        "train_labels_cat = np.array([encode(xi) for xi in train_labels])\n",
        "test_labels_cat = np.array([encode(xi) for xi in test_labels])\n",
        "\n",
        "# Verify the encoding/decoding\n",
        "print(train_labels[1])\n",
        "print(train_labels_cat.shape, train_labels_cat[1])\n",
        "print(decode(train_labels_cat[1]))"
      ],
      "execution_count": 23,
      "outputs": [
        {
          "output_type": "stream",
          "text": [
            "ABS CBN also utilized what is pr\n",
            "(4000, 32) [10 11 28 47 12 11 23 47 36 21 28 24 47 30 46 18 21 18 35 39 38 47 32 42\n",
            " 36 46 47 18 28 47 25 45]\n",
            "['A', 'B', 'S', ' ', 'C', 'B', 'N', ' ', 'a', 'L', 'S', 'O', ' ', 'U', 't', 'I', 'L', 'I', 'Z', 'e', 'd', ' ', 'W', 'h', 'a', 't', ' ', 'I', 'S', ' ', 'P', 'r']\n"
          ],
          "name": "stdout"
        }
      ]
    },
    {
      "cell_type": "markdown",
      "metadata": {
        "id": "195rY50uPhrw",
        "colab_type": "text"
      },
      "source": [
        "# Build Train and Test Loader\n",
        "\n",
        "Using `tf.data`"
      ]
    },
    {
      "cell_type": "code",
      "metadata": {
        "id": "VKNx2nN4Pqcc",
        "colab_type": "code",
        "colab": {}
      },
      "source": [
        "AUTO = tf.data.experimental.AUTOTUNE\n",
        "BATCH_SIZE = 64\n",
        "\n",
        "# This step will make sense after looking at the model\n",
        "def merge_image_label(image, label):\n",
        "    return (image, label), label\n",
        "\n",
        "trainloader = tf.data.Dataset.from_tensor_slices((train_images, train_labels_cat))\n",
        "testloader = tf.data.Dataset.from_tensor_slices((test_images, test_labels_cat))\n",
        "\n",
        "trainloader = (\n",
        "    trainloader\n",
        "    .shuffle(1024)\n",
        "    .map(merge_image_label, num_parallel_calls=AUTO)\n",
        "    .batch(BATCH_SIZE)\n",
        "    .prefetch(AUTO)\n",
        ")\n",
        "\n",
        "testloader = (\n",
        "    testloader\n",
        "    .map(merge_image_label, num_parallel_calls=AUTO)\n",
        "    .batch(BATCH_SIZE)\n",
        "    .prefetch(AUTO)\n",
        ")"
      ],
      "execution_count": 24,
      "outputs": []
    },
    {
      "cell_type": "markdown",
      "metadata": {
        "id": "xg-LdXSDsbPs",
        "colab_type": "text"
      },
      "source": [
        "# Build Model"
      ]
    },
    {
      "cell_type": "code",
      "metadata": {
        "id": "5fdP1t6zuU73",
        "colab_type": "code",
        "colab": {}
      },
      "source": [
        "# CNN definition : LeNet5 architecture, a classic architecture\n",
        "IMG_H, IMG_W = train_images[1].shape\n",
        "# we limited output sentences to 32 chars\n",
        "OUTPUT_LENGTH = 32  \n",
        "# EMNIST has 47 labels, adding one for 'blank space'\n",
        "NUM_CLASSES = 49 # notice two additional class; one is for \"space\" another is required by \"CTCLayer\""
      ],
      "execution_count": 25,
      "outputs": []
    },
    {
      "cell_type": "markdown",
      "metadata": {
        "id": "XNeF-P0gsit7",
        "colab_type": "text"
      },
      "source": [
        "#### Utility to Extract Patch\n",
        "\n",
        "Since each image is a sentence, we will extract patches from it\n",
        "width of each patch will be 20 pixels wide (note EMNIST is 28 px)\n",
        "and every time we will move 14 px over to extract another sample"
      ]
    },
    {
      "cell_type": "code",
      "metadata": {
        "id": "YfI1fixxumPn",
        "colab_type": "code",
        "colab": {}
      },
      "source": [
        "PATCH_WIDTH = 20\n",
        "PATCH_STRIDE = 14"
      ],
      "execution_count": 26,
      "outputs": []
    },
    {
      "cell_type": "code",
      "metadata": {
        "id": "RExyW0Opi_g_",
        "colab_type": "code",
        "colab": {}
      },
      "source": [
        "def extract_patches(image):\n",
        "    kernel = [1, 1, PATCH_WIDTH, 1]\n",
        "    strides = [1, 1, PATCH_STRIDE, 1]\n",
        "    patches = tf.image.extract_patches(image, kernel, strides, [1, 1, 1, 1], 'VALID')\n",
        "    patches = tf.transpose(patches, (0, 2, 1, 3))\n",
        "    patches = tf.expand_dims(patches, -1)\n",
        "    return patches"
      ],
      "execution_count": 27,
      "outputs": []
    },
    {
      "cell_type": "markdown",
      "metadata": {
        "id": "wmjDDWLfHWyJ",
        "colab_type": "text"
      },
      "source": [
        "#### CNN backbone\n",
        "\n",
        "* Takes in a patch of image\n",
        "* Returned flattened embedding"
      ]
    },
    {
      "cell_type": "code",
      "metadata": {
        "id": "Ra0ehhwMG3FF",
        "colab_type": "code",
        "colab": {
          "base_uri": "https://localhost:8080/",
          "height": 386
        },
        "outputId": "125f67f1-1763-40a4-8c39-325351819f1f"
      },
      "source": [
        "def ImagePatchEncoder():\n",
        "  patched_inputs = Input(shape=(IMG_H, PATCH_WIDTH, 1))\n",
        "  x = Conv2D(32, kernel_size=(3, 3), activation='relu')(patched_inputs)\n",
        "  x = Conv2D(64, kernel_size=(3, 3), activation='relu')(x)\n",
        "  x = MaxPooling2D(pool_size=(2, 2))(x)\n",
        "  x = Dropout(0.2)(x)\n",
        "  flattened_outputs = Flatten()(x)\n",
        "\n",
        "  return Model(inputs=patched_inputs, outputs=flattened_outputs, name='backbone')\n",
        "\n",
        "tf.keras.backend.clear_session()\n",
        "image_patch_encoder = ImagePatchEncoder()\n",
        "image_patch_encoder.summary()"
      ],
      "execution_count": 28,
      "outputs": [
        {
          "output_type": "stream",
          "text": [
            "Model: \"backbone\"\n",
            "_________________________________________________________________\n",
            "Layer (type)                 Output Shape              Param #   \n",
            "=================================================================\n",
            "input_1 (InputLayer)         [(None, 28, 20, 1)]       0         \n",
            "_________________________________________________________________\n",
            "conv2d (Conv2D)              (None, 26, 18, 32)        320       \n",
            "_________________________________________________________________\n",
            "conv2d_1 (Conv2D)            (None, 24, 16, 64)        18496     \n",
            "_________________________________________________________________\n",
            "max_pooling2d (MaxPooling2D) (None, 12, 8, 64)         0         \n",
            "_________________________________________________________________\n",
            "dropout (Dropout)            (None, 12, 8, 64)         0         \n",
            "_________________________________________________________________\n",
            "flatten (Flatten)            (None, 6144)              0         \n",
            "=================================================================\n",
            "Total params: 18,816\n",
            "Trainable params: 18,816\n",
            "Non-trainable params: 0\n",
            "_________________________________________________________________\n"
          ],
          "name": "stdout"
        }
      ]
    },
    {
      "cell_type": "markdown",
      "metadata": {
        "id": "ezbWeXARO_C0",
        "colab_type": "text"
      },
      "source": [
        "#### CTC Loss Layer\n",
        "\n",
        "You can learn more about CTC Loss in this [awesome blog post](https://app.wandb.ai/authors/text-recognition-crnn-ctc/reports/Text-Recognition-with-CRNN-CTC-Network--VmlldzoxNTI5NDI)."
      ]
    },
    {
      "cell_type": "code",
      "metadata": {
        "id": "MzyiMxNoH_vt",
        "colab_type": "code",
        "colab": {}
      },
      "source": [
        "## Ref: https://keras.io/examples/vision/captcha_ocr/\n",
        "class CTCLayer(Layer):\n",
        "  def __init__(self, name=None):\n",
        "\n",
        "      super().__init__(name=name)\n",
        "      self.loss_fn = tf.keras.backend.ctc_batch_cost\n",
        "\n",
        "  def call(self, y_true, y_pred):\n",
        "      # Compute the training-time loss value and add it\n",
        "      # to the layer using `self.add_loss()`.\n",
        "\n",
        "      batch_len = tf.cast(tf.shape(y_true)[0], dtype=\"int64\")\n",
        "      input_length = tf.cast(tf.shape(y_pred)[1], dtype=\"int64\")\n",
        "      label_length = tf.cast(tf.shape(y_true)[1], dtype=\"int64\")\n",
        "\n",
        "      input_length = input_length * tf.ones(shape=(batch_len, 1), dtype=\"int64\")\n",
        "      label_length = label_length * tf.ones(shape=(batch_len, 1), dtype=\"int64\")\n",
        "\n",
        "      loss = self.loss_fn(y_true, y_pred, input_length, label_length)\n",
        "      self.add_loss(loss)\n",
        "\n",
        "      # At test time, just return the computed predictions\n",
        "      return y_pred\n",
        "      "
      ],
      "execution_count": 29,
      "outputs": []
    },
    {
      "cell_type": "markdown",
      "metadata": {
        "id": "Uun36GxI9G6V",
        "colab_type": "text"
      },
      "source": [
        "#### Final Model\n",
        "\n",
        "##### Image Encoder\n",
        "\n",
        "* Take in image input\n",
        "* Get patches of shape `(PATCH_HEIGHT, PATCH_WIDTH, 1)`.\n",
        "* Feed patches to backbone CNN architecture to get embedding. \n",
        "* Wrap using `TimeDistributed`\n",
        "\n",
        "\n",
        "##### Recurrent Network\n",
        "\n",
        "* Takes in `TimeDistributed` sequence\n",
        "* Computes output"
      ]
    },
    {
      "cell_type": "code",
      "metadata": {
        "id": "2tJu9Yn5NNIt",
        "colab_type": "code",
        "colab": {}
      },
      "source": [
        "def ImagetoSequence():\n",
        "  # IMAGE ENCODER #\n",
        "  labels = Input(name=\"label\", shape=(None,), dtype=\"float32\")\n",
        "  image_input = Input(shape=(IMG_H, IMG_W), name=\"cnn_input\")\n",
        "  # reshape to add dimensions\n",
        "  image_reshaped = Reshape((IMG_H, IMG_W, 1))(image_input)\n",
        "  # extract patches of images\n",
        "  image_patches = Lambda(extract_patches)(image_reshaped)\n",
        "  # get CNN backbone architecture to get embedding for each patch\n",
        "  image_patch_encoder = ImagePatchEncoder()\n",
        "  # Wrapper allows to apply a layer to every temporal slice of an input.\n",
        "  time_wrapper = TimeDistributed(image_patch_encoder)(image_patches)\n",
        "\n",
        "  # RECURRENT NETWORK #\n",
        "  lstm_out = LSTM(128, return_sequences=True, name=\"lstm\")(time_wrapper)\n",
        "  softmax_output = Dense(NUM_CLASSES, activation='softmax', name=\"lstm_softmax\")(lstm_out)\n",
        "  # \n",
        "  output = CTCLayer(name=\"ctc_loss\")(labels, softmax_output)\n",
        "\n",
        "  return Model([image_input, labels], output)"
      ],
      "execution_count": 30,
      "outputs": []
    },
    {
      "cell_type": "markdown",
      "metadata": {
        "id": "AFEYPgl3Qihf",
        "colab_type": "text"
      },
      "source": [
        "# Initialize Model"
      ]
    },
    {
      "cell_type": "code",
      "metadata": {
        "id": "WFnnEeoKIrYC",
        "colab_type": "code",
        "colab": {
          "base_uri": "https://localhost:8080/",
          "height": 479
        },
        "outputId": "48985c45-5d87-4e0e-cece-815eb368c90c"
      },
      "source": [
        "tf.keras.backend.clear_session()\n",
        "model = ImagetoSequence()\n",
        "model.summary()"
      ],
      "execution_count": 31,
      "outputs": [
        {
          "output_type": "stream",
          "text": [
            "Model: \"functional_1\"\n",
            "__________________________________________________________________________________________________\n",
            "Layer (type)                    Output Shape         Param #     Connected to                     \n",
            "==================================================================================================\n",
            "cnn_input (InputLayer)          [(None, 28, 896)]    0                                            \n",
            "__________________________________________________________________________________________________\n",
            "reshape (Reshape)               (None, 28, 896, 1)   0           cnn_input[0][0]                  \n",
            "__________________________________________________________________________________________________\n",
            "lambda (Lambda)                 (None, 63, 28, 20, 1 0           reshape[0][0]                    \n",
            "__________________________________________________________________________________________________\n",
            "time_distributed (TimeDistribut (None, 63, 6144)     18816       lambda[0][0]                     \n",
            "__________________________________________________________________________________________________\n",
            "lstm (LSTM)                     (None, 63, 128)      3211776     time_distributed[0][0]           \n",
            "__________________________________________________________________________________________________\n",
            "label (InputLayer)              [(None, None)]       0                                            \n",
            "__________________________________________________________________________________________________\n",
            "lstm_softmax (Dense)            (None, 63, 49)       6321        lstm[0][0]                       \n",
            "__________________________________________________________________________________________________\n",
            "ctc_loss (CTCLayer)             (None, 63, 49)       0           label[0][0]                      \n",
            "                                                                 lstm_softmax[0][0]               \n",
            "==================================================================================================\n",
            "Total params: 3,236,913\n",
            "Trainable params: 3,236,913\n",
            "Non-trainable params: 0\n",
            "__________________________________________________________________________________________________\n"
          ],
          "name": "stdout"
        }
      ]
    },
    {
      "cell_type": "markdown",
      "metadata": {
        "id": "asdJgVutPOsD",
        "colab_type": "text"
      },
      "source": [
        "# Compile Model"
      ]
    },
    {
      "cell_type": "code",
      "metadata": {
        "id": "LAuhDm8jm-Vg",
        "colab_type": "code",
        "colab": {}
      },
      "source": [
        "# compile the models\n",
        "model.compile(tf.keras.optimizers.Adam())"
      ],
      "execution_count": 32,
      "outputs": []
    },
    {
      "cell_type": "markdown",
      "metadata": {
        "id": "QeR-dUwePUEf",
        "colab_type": "text"
      },
      "source": [
        "# Train Model with W&B"
      ]
    },
    {
      "cell_type": "code",
      "metadata": {
        "id": "ueJ3cunufae5",
        "colab_type": "code",
        "colab": {}
      },
      "source": [
        "early_stopper = tf.keras.callbacks.EarlyStopping(\n",
        "    monitor='val_loss', min_delta=0, patience=10, verbose=0, mode='auto', restore_best_weights=True)"
      ],
      "execution_count": 33,
      "outputs": []
    },
    {
      "cell_type": "code",
      "metadata": {
        "id": "u4mQQ7i5nRU5",
        "colab_type": "code",
        "colab": {
          "base_uri": "https://localhost:8080/",
          "height": 1000
        },
        "outputId": "7b13d37a-2622-4cba-bba7-214cf4c791b8"
      },
      "source": [
        "wandb.init(entity='iit-bhu', project='emnist-nlp')\n",
        "\n",
        "_ = model.fit(trainloader,  \n",
        "                    validation_data=testloader,\n",
        "                    epochs=100,\n",
        "                    callbacks=[WandbCallback(),\n",
        "                               early_stopper])"
      ],
      "execution_count": 34,
      "outputs": [
        {
          "output_type": "display_data",
          "data": {
            "text/html": [
              "\n",
              "                Logging results to <a href=\"https://wandb.com\" target=\"_blank\">Weights & Biases</a> <a href=\"https://docs.wandb.com/integrations/jupyter.html\" target=\"_blank\">(Documentation)</a>.<br/>\n",
              "                Project page: <a href=\"https://app.wandb.ai/iit-bhu/emnist-nlp\" target=\"_blank\">https://app.wandb.ai/iit-bhu/emnist-nlp</a><br/>\n",
              "                Run page: <a href=\"https://app.wandb.ai/iit-bhu/emnist-nlp/runs/1yyuw016\" target=\"_blank\">https://app.wandb.ai/iit-bhu/emnist-nlp/runs/1yyuw016</a><br/>\n",
              "            "
            ],
            "text/plain": [
              "<IPython.core.display.HTML object>"
            ]
          },
          "metadata": {
            "tags": []
          }
        },
        {
          "output_type": "stream",
          "text": [
            "Epoch 1/100\n",
            "63/63 [==============================] - 12s 187ms/step - loss: 92.6480 - val_loss: 61.4961\n",
            "Epoch 2/100\n",
            "63/63 [==============================] - 11s 176ms/step - loss: 44.4361 - val_loss: 34.0389\n",
            "Epoch 3/100\n",
            "63/63 [==============================] - 11s 176ms/step - loss: 26.2492 - val_loss: 23.0972\n",
            "Epoch 4/100\n",
            "63/63 [==============================] - 11s 172ms/step - loss: 18.8585 - val_loss: 18.5460\n",
            "Epoch 5/100\n",
            "63/63 [==============================] - 11s 171ms/step - loss: 15.4288 - val_loss: 15.9215\n",
            "Epoch 6/100\n",
            "63/63 [==============================] - 11s 170ms/step - loss: 13.3450 - val_loss: 14.2298\n",
            "Epoch 7/100\n",
            "63/63 [==============================] - 11s 171ms/step - loss: 11.8815 - val_loss: 13.0436\n",
            "Epoch 8/100\n",
            "63/63 [==============================] - 11s 171ms/step - loss: 10.7958 - val_loss: 12.1949\n",
            "Epoch 9/100\n",
            "63/63 [==============================] - 11s 172ms/step - loss: 9.9511 - val_loss: 11.3838\n",
            "Epoch 10/100\n",
            "63/63 [==============================] - 11s 173ms/step - loss: 9.2488 - val_loss: 10.8165\n",
            "Epoch 11/100\n",
            "63/63 [==============================] - 11s 171ms/step - loss: 8.6577 - val_loss: 10.3874\n",
            "Epoch 12/100\n",
            "63/63 [==============================] - 11s 170ms/step - loss: 8.1245 - val_loss: 9.8470\n",
            "Epoch 13/100\n",
            "63/63 [==============================] - 11s 171ms/step - loss: 7.6636 - val_loss: 9.5777\n",
            "Epoch 14/100\n",
            "63/63 [==============================] - 11s 170ms/step - loss: 7.2568 - val_loss: 9.4508\n",
            "Epoch 15/100\n",
            "63/63 [==============================] - 11s 171ms/step - loss: 6.8841 - val_loss: 8.9687\n",
            "Epoch 16/100\n",
            "63/63 [==============================] - 11s 173ms/step - loss: 6.5519 - val_loss: 8.6401\n",
            "Epoch 17/100\n",
            "63/63 [==============================] - 11s 171ms/step - loss: 6.1909 - val_loss: 8.5145\n",
            "Epoch 18/100\n",
            "63/63 [==============================] - 11s 171ms/step - loss: 5.9542 - val_loss: 8.2268\n",
            "Epoch 19/100\n",
            "63/63 [==============================] - 11s 171ms/step - loss: 5.6795 - val_loss: 8.1211\n",
            "Epoch 20/100\n",
            "63/63 [==============================] - 11s 172ms/step - loss: 5.4543 - val_loss: 7.9257\n",
            "Epoch 21/100\n",
            "63/63 [==============================] - 11s 172ms/step - loss: 5.1840 - val_loss: 7.7784\n",
            "Epoch 22/100\n",
            "63/63 [==============================] - 11s 170ms/step - loss: 5.0004 - val_loss: 7.7819\n",
            "Epoch 23/100\n",
            "63/63 [==============================] - 11s 170ms/step - loss: 4.7747 - val_loss: 7.5118\n",
            "Epoch 24/100\n",
            "63/63 [==============================] - 11s 173ms/step - loss: 4.5795 - val_loss: 7.3938\n",
            "Epoch 25/100\n",
            "63/63 [==============================] - 11s 170ms/step - loss: 4.4050 - val_loss: 7.2196\n",
            "Epoch 26/100\n",
            "63/63 [==============================] - 11s 170ms/step - loss: 4.2361 - val_loss: 7.1990\n",
            "Epoch 27/100\n",
            "63/63 [==============================] - 11s 170ms/step - loss: 4.0192 - val_loss: 7.0780\n",
            "Epoch 28/100\n",
            "63/63 [==============================] - 11s 172ms/step - loss: 3.8700 - val_loss: 6.9571\n",
            "Epoch 29/100\n",
            "63/63 [==============================] - 11s 172ms/step - loss: 3.7028 - val_loss: 6.9109\n",
            "Epoch 30/100\n",
            "63/63 [==============================] - 11s 170ms/step - loss: 3.5485 - val_loss: 6.9479\n",
            "Epoch 31/100\n",
            "63/63 [==============================] - 11s 168ms/step - loss: 3.4510 - val_loss: 6.9567\n",
            "Epoch 32/100\n",
            "63/63 [==============================] - 11s 170ms/step - loss: 3.3122 - val_loss: 6.7464\n",
            "Epoch 33/100\n",
            "63/63 [==============================] - 11s 170ms/step - loss: 3.1483 - val_loss: 6.7091\n",
            "Epoch 34/100\n",
            "63/63 [==============================] - 11s 171ms/step - loss: 2.9870 - val_loss: 6.6150\n",
            "Epoch 35/100\n",
            "63/63 [==============================] - 11s 170ms/step - loss: 2.8695 - val_loss: 6.5958\n",
            "Epoch 36/100\n",
            "63/63 [==============================] - 11s 172ms/step - loss: 2.7608 - val_loss: 6.5102\n",
            "Epoch 37/100\n",
            "63/63 [==============================] - 11s 171ms/step - loss: 2.6536 - val_loss: 6.4375\n",
            "Epoch 38/100\n",
            "63/63 [==============================] - 11s 170ms/step - loss: 2.5335 - val_loss: 6.4990\n",
            "Epoch 39/100\n",
            "63/63 [==============================] - 11s 169ms/step - loss: 2.4280 - val_loss: 6.4508\n",
            "Epoch 40/100\n",
            "63/63 [==============================] - 11s 169ms/step - loss: 2.3440 - val_loss: 6.4760\n",
            "Epoch 41/100\n",
            "63/63 [==============================] - 11s 168ms/step - loss: 2.2653 - val_loss: 6.4661\n",
            "Epoch 42/100\n",
            "63/63 [==============================] - 11s 169ms/step - loss: 2.1405 - val_loss: 6.4941\n",
            "Epoch 43/100\n",
            "63/63 [==============================] - 11s 172ms/step - loss: 2.0545 - val_loss: 6.3958\n",
            "Epoch 44/100\n",
            "63/63 [==============================] - 11s 171ms/step - loss: 1.9871 - val_loss: 6.3797\n",
            "Epoch 45/100\n",
            "63/63 [==============================] - 11s 168ms/step - loss: 1.8962 - val_loss: 6.4305\n",
            "Epoch 46/100\n",
            "63/63 [==============================] - 11s 169ms/step - loss: 1.8178 - val_loss: 6.3858\n",
            "Epoch 47/100\n",
            "63/63 [==============================] - 11s 168ms/step - loss: 1.7406 - val_loss: 6.4080\n",
            "Epoch 48/100\n",
            "63/63 [==============================] - 11s 170ms/step - loss: 1.6547 - val_loss: 6.3528\n",
            "Epoch 49/100\n",
            "63/63 [==============================] - 11s 169ms/step - loss: 1.5930 - val_loss: 6.4405\n",
            "Epoch 50/100\n",
            "63/63 [==============================] - 11s 168ms/step - loss: 1.5097 - val_loss: 6.3862\n",
            "Epoch 51/100\n",
            "63/63 [==============================] - 11s 172ms/step - loss: 1.4544 - val_loss: 6.3043\n",
            "Epoch 52/100\n",
            "63/63 [==============================] - 11s 169ms/step - loss: 1.3973 - val_loss: 6.3367\n",
            "Epoch 53/100\n",
            "63/63 [==============================] - 11s 168ms/step - loss: 1.3157 - val_loss: 6.3581\n",
            "Epoch 54/100\n",
            "63/63 [==============================] - 11s 168ms/step - loss: 1.2653 - val_loss: 6.5315\n",
            "Epoch 55/100\n",
            "63/63 [==============================] - 11s 168ms/step - loss: 1.2076 - val_loss: 6.4651\n",
            "Epoch 56/100\n",
            "63/63 [==============================] - 11s 167ms/step - loss: 1.1373 - val_loss: 6.4773\n",
            "Epoch 57/100\n",
            "63/63 [==============================] - 11s 168ms/step - loss: 1.0873 - val_loss: 6.5429\n",
            "Epoch 58/100\n",
            "63/63 [==============================] - 11s 169ms/step - loss: 1.0453 - val_loss: 6.5902\n",
            "Epoch 59/100\n",
            "63/63 [==============================] - 11s 168ms/step - loss: 0.9911 - val_loss: 6.5197\n",
            "Epoch 60/100\n",
            "63/63 [==============================] - 11s 167ms/step - loss: 0.9331 - val_loss: 6.4398\n",
            "Epoch 61/100\n",
            "63/63 [==============================] - 11s 168ms/step - loss: 0.8886 - val_loss: 6.5362\n"
          ],
          "name": "stdout"
        }
      ]
    },
    {
      "cell_type": "markdown",
      "metadata": {
        "id": "RbOx_WuMtYem",
        "colab_type": "text"
      },
      "source": [
        "#### Save your hard work"
      ]
    },
    {
      "cell_type": "code",
      "metadata": {
        "id": "QG6ooSDFfqcE",
        "colab_type": "code",
        "colab": {}
      },
      "source": [
        "model.save('emnist-nlp.h5')"
      ],
      "execution_count": 35,
      "outputs": []
    },
    {
      "cell_type": "markdown",
      "metadata": {
        "id": "UngLxdFvtiXt",
        "colab_type": "text"
      },
      "source": [
        "# Prediction"
      ]
    },
    {
      "cell_type": "markdown",
      "metadata": {
        "id": "Veszg_ejudSQ",
        "colab_type": "text"
      },
      "source": [
        "#### Simplify Model for Inference"
      ]
    },
    {
      "cell_type": "code",
      "metadata": {
        "id": "RwpYiNI_uf-i",
        "colab_type": "code",
        "colab": {
          "base_uri": "https://localhost:8080/",
          "height": 386
        },
        "outputId": "c8992f69-5a2d-4cff-9935-cb90e2985c3e"
      },
      "source": [
        "# notice we are removing CTCLayer\n",
        "inference_model = Model(model.get_layer('cnn_input').input, model.get_layer('lstm_softmax').output)\n",
        "inference_model.summary()"
      ],
      "execution_count": 36,
      "outputs": [
        {
          "output_type": "stream",
          "text": [
            "Model: \"functional_3\"\n",
            "_________________________________________________________________\n",
            "Layer (type)                 Output Shape              Param #   \n",
            "=================================================================\n",
            "cnn_input (InputLayer)       [(None, 28, 896)]         0         \n",
            "_________________________________________________________________\n",
            "reshape (Reshape)            (None, 28, 896, 1)        0         \n",
            "_________________________________________________________________\n",
            "lambda (Lambda)              (None, 63, 28, 20, 1)     0         \n",
            "_________________________________________________________________\n",
            "time_distributed (TimeDistri (None, 63, 6144)          18816     \n",
            "_________________________________________________________________\n",
            "lstm (LSTM)                  (None, 63, 128)           3211776   \n",
            "_________________________________________________________________\n",
            "lstm_softmax (Dense)         (None, 63, 49)            6321      \n",
            "=================================================================\n",
            "Total params: 3,236,913\n",
            "Trainable params: 3,236,913\n",
            "Non-trainable params: 0\n",
            "_________________________________________________________________\n"
          ],
          "name": "stdout"
        }
      ]
    },
    {
      "cell_type": "markdown",
      "metadata": {
        "id": "dBZC4UPhwQKg",
        "colab_type": "text"
      },
      "source": [
        "#### Get Predictions"
      ]
    },
    {
      "cell_type": "code",
      "metadata": {
        "id": "vFyStXxLvI5X",
        "colab_type": "code",
        "colab": {}
      },
      "source": [
        "(val_images, val_labels), _ = next(iter(testloader))"
      ],
      "execution_count": 37,
      "outputs": []
    },
    {
      "cell_type": "code",
      "metadata": {
        "id": "SMQt-H77wwH9",
        "colab_type": "code",
        "colab": {}
      },
      "source": [
        "def get_prediction(val_images, val_labels):\n",
        "    # get prediction probability \n",
        "    predictions = inference_model.predict(val_images)\n",
        "    # get argmax\n",
        "    pred_indices = np.argmax(predictions, axis=2)\n",
        "    \n",
        "    actual_text_list = []\n",
        "    pred_text_list = []\n",
        "\n",
        "    for i in range(val_images.shape[0]):\n",
        "        ans = \"\"\n",
        "        pred_ans = \"\"\n",
        "\n",
        "        # get actual text\n",
        "        for p in val_labels[i].numpy():\n",
        "            if p in mappings.keys():\n",
        "              ans+=mappings[p]\n",
        "\n",
        "        # get predicted text from image\n",
        "        merged_list = [k for k,_ in groupby(pred_indices[i])]\n",
        "        for p in merged_list:\n",
        "            if p in mappings.keys():\n",
        "              pred_ans+=mappings[p]\n",
        "\n",
        "        actual_text_list.append(ans)\n",
        "        pred_text_list.append(pred_ans)\n",
        "\n",
        "    return actual_text_list, pred_text_list"
      ],
      "execution_count": 38,
      "outputs": []
    },
    {
      "cell_type": "code",
      "metadata": {
        "id": "7k2LlgTP1TuI",
        "colab_type": "code",
        "colab": {}
      },
      "source": [
        "actual_text, predicted_text = get_prediction(val_images, val_labels)"
      ],
      "execution_count": 39,
      "outputs": []
    },
    {
      "cell_type": "code",
      "metadata": {
        "id": "3NfaOBJ6Yiub",
        "colab_type": "code",
        "colab": {}
      },
      "source": [
        "table = wandb.Table(columns=[\"Actual Text\", \"Predicted Text\"])\n",
        "for act_text, pred_text in zip(actual_text, predicted_text):\n",
        "    table.add_data(act_text, pred_text)\n",
        "\n",
        "wandb.log({\"emnist-nlp\": table})"
      ],
      "execution_count": 40,
      "outputs": []
    },
    {
      "cell_type": "code",
      "metadata": {
        "id": "wzSdAkt4d_xB",
        "colab_type": "code",
        "colab": {}
      },
      "source": [
        "wandb.log({\"images\": [wandb.Image(np.expand_dims(image, axis=2))\n",
        "                            for image in val_images]})"
      ],
      "execution_count": 41,
      "outputs": []
    }
  ]
}