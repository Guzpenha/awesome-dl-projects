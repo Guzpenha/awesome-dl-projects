{
  "nbformat": 4,
  "nbformat_minor": 0,
  "metadata": {
    "colab": {
      "name": "EMNIST NLP",
      "provenance": [],
      "toc_visible": true,
      "authorship_tag": "ABX9TyOnUAjcxpRqrN8xrxTy58Ea",
      "include_colab_link": true
    },
    "kernelspec": {
      "name": "python3",
      "display_name": "Python 3"
    },
    "accelerator": "GPU"
  },
  "cells": [
    {
      "cell_type": "markdown",
      "metadata": {
        "id": "view-in-github",
        "colab_type": "text"
      },
      "source": [
        "<a href=\"https://colab.research.google.com/github/wandb/awesome-dl-projects/blob/master/ml-tutorial/EMNIST_NLP.ipynb\" target=\"_parent\"><img src=\"https://colab.research.google.com/assets/colab-badge.svg\" alt=\"Open In Colab\"/></a>"
      ]
    },
    {
      "cell_type": "markdown",
      "metadata": {
        "id": "LHCCGutqrj-r",
        "colab_type": "text"
      },
      "source": [
        "# Imports and Setups"
      ]
    },
    {
      "cell_type": "code",
      "metadata": {
        "id": "qiFYfrVpXbAP",
        "colab_type": "code",
        "colab": {
          "base_uri": "https://localhost:8080/",
          "height": 391
        },
        "outputId": "c4ed2e1f-ff7b-4ec7-bd10-2e1877eea265"
      },
      "source": [
        "!nvidia-smi"
      ],
      "execution_count": 1,
      "outputs": [
        {
          "output_type": "stream",
          "text": [
            "Fri Aug 28 19:19:54 2020       \n",
            "+-----------------------------------------------------------------------------+\n",
            "| NVIDIA-SMI 450.66       Driver Version: 418.67       CUDA Version: 10.1     |\n",
            "|-------------------------------+----------------------+----------------------+\n",
            "| GPU  Name        Persistence-M| Bus-Id        Disp.A | Volatile Uncorr. ECC |\n",
            "| Fan  Temp  Perf  Pwr:Usage/Cap|         Memory-Usage | GPU-Util  Compute M. |\n",
            "|                               |                      |               MIG M. |\n",
            "|===============================+======================+======================|\n",
            "|   0  Tesla P100-PCIE...  Off  | 00000000:00:04.0 Off |                    0 |\n",
            "| N/A   35C    P0    25W / 250W |      0MiB / 16280MiB |      0%      Default |\n",
            "|                               |                      |                 ERR! |\n",
            "+-------------------------------+----------------------+----------------------+\n",
            "                                                                               \n",
            "+-----------------------------------------------------------------------------+\n",
            "| Processes:                                                                  |\n",
            "|  GPU   GI   CI        PID   Type   Process name                  GPU Memory |\n",
            "|        ID   ID                                                   Usage      |\n",
            "|=============================================================================|\n",
            "|  No running processes found                                                 |\n",
            "+-----------------------------------------------------------------------------+\n"
          ],
          "name": "stdout"
        }
      ]
    },
    {
      "cell_type": "code",
      "metadata": {
        "id": "eGY8OiyGpN-x",
        "colab_type": "code",
        "colab": {
          "base_uri": "https://localhost:8080/",
          "height": 36
        },
        "outputId": "6f53b9dc-97c4-4dd3-8e16-ebfba1d06453"
      },
      "source": [
        "import tensorflow as tf\n",
        "print(tf.__version__)\n",
        "\n",
        "from tensorflow.keras.layers import *\n",
        "from tensorflow.keras.models import *\n",
        "import tensorflow_datasets as tfds\n",
        "\n",
        "import numpy as np\n",
        "import matplotlib.pyplot as plt\n",
        "\n",
        "%matplotlib inline\n",
        "tfds.disable_progress_bar()\n",
        "\n",
        "import csv\n",
        "import string\n",
        "import pathlib\n",
        "import gzip\n",
        "from tqdm import tqdm\n",
        "import seaborn as sns"
      ],
      "execution_count": 4,
      "outputs": [
        {
          "output_type": "stream",
          "text": [
            "2.3.0\n"
          ],
          "name": "stdout"
        }
      ]
    },
    {
      "cell_type": "markdown",
      "metadata": {
        "id": "p9VJbZx9g9Uz",
        "colab_type": "text"
      },
      "source": [
        "# Download Dataset"
      ]
    },
    {
      "cell_type": "markdown",
      "metadata": {
        "id": "WHw1hCpYg_1R",
        "colab_type": "text"
      },
      "source": [
        "#### Wiki-split dataset"
      ]
    },
    {
      "cell_type": "code",
      "metadata": {
        "id": "4SOyIXEHnI4p",
        "colab_type": "code",
        "colab": {
          "base_uri": "https://localhost:8080/",
          "height": 92
        },
        "outputId": "62ea4de3-4399-42fd-cf79-244d1dc04578"
      },
      "source": [
        "!git clone https://github.com/google-research-datasets/wiki-split"
      ],
      "execution_count": 5,
      "outputs": [
        {
          "output_type": "stream",
          "text": [
            "Cloning into 'wiki-split'...\n",
            "remote: Enumerating objects: 32, done.\u001b[K\n",
            "remote: Total 32 (delta 0), reused 0 (delta 0), pack-reused 32\u001b[K\n",
            "Unpacking objects: 100% (32/32), done.\n"
          ],
          "name": "stdout"
        }
      ]
    },
    {
      "cell_type": "markdown",
      "metadata": {
        "id": "Ewq14NyxhId2",
        "colab_type": "text"
      },
      "source": [
        "> Side Note: We will be using `test.tsv` for our experiment to speed up the process."
      ]
    },
    {
      "cell_type": "markdown",
      "metadata": {
        "id": "gcRbRClXjBq1",
        "colab_type": "text"
      },
      "source": [
        "#### EMNIST/Bymerge Dataset"
      ]
    },
    {
      "cell_type": "code",
      "metadata": {
        "id": "0qrzBv-XjFiQ",
        "colab_type": "code",
        "colab": {
          "base_uri": "https://localhost:8080/",
          "height": 149
        },
        "outputId": "c912c87b-3432-42cd-bd42-a51ae4dd96cf"
      },
      "source": [
        "# Gather EMNIST/bymerge dataset\n",
        "train_ds, validation_ds = tfds.load(\n",
        "    \"emnist/bymerge\",\n",
        "    split=[\"train[:85%]\", \"train[85%:]\"],\n",
        "    as_supervised=True\n",
        ")"
      ],
      "execution_count": 8,
      "outputs": [
        {
          "output_type": "stream",
          "text": [
            "\u001b[1mDownloading and preparing dataset emnist/bymerge/3.0.0 (download: 535.73 MiB, generated: Unknown size, total: 535.73 MiB) to /root/tensorflow_datasets/emnist/bymerge/3.0.0...\u001b[0m\n"
          ],
          "name": "stdout"
        },
        {
          "output_type": "stream",
          "text": [
            "/usr/local/lib/python3.6/dist-packages/urllib3/connectionpool.py:847: InsecureRequestWarning: Unverified HTTPS request is being made. Adding certificate verification is strongly advised. See: https://urllib3.readthedocs.io/en/latest/advanced-usage.html#ssl-warnings\n",
            "  InsecureRequestWarning)\n"
          ],
          "name": "stderr"
        },
        {
          "output_type": "stream",
          "text": [
            "Shuffling and writing examples to /root/tensorflow_datasets/emnist/bymerge/3.0.0.incompleteJDMA17/emnist-train.tfrecord\n",
            "Shuffling and writing examples to /root/tensorflow_datasets/emnist/bymerge/3.0.0.incompleteJDMA17/emnist-test.tfrecord\n",
            "\u001b[1mDataset emnist downloaded and prepared to /root/tensorflow_datasets/emnist/bymerge/3.0.0. Subsequent calls will reuse this data.\u001b[0m\n"
          ],
          "name": "stdout"
        }
      ]
    },
    {
      "cell_type": "markdown",
      "metadata": {
        "id": "8Of-n4NypN_4",
        "colab_type": "text"
      },
      "source": [
        "# Load Data, Clean it and preprocess"
      ]
    },
    {
      "cell_type": "code",
      "metadata": {
        "id": "0Av4Db7lpN_8",
        "colab_type": "code",
        "colab": {
          "base_uri": "https://localhost:8080/",
          "height": 54
        },
        "outputId": "c0bde94b-4abf-4632-c554-8e5777008557"
      },
      "source": [
        "raw_sentences = []  # empty list to store sentences\n",
        "with open(\"wiki-split/test.tsv\", \"r\") as f:\n",
        "    reader = csv.reader(f, delimiter='\\t')  # read a tsv file\n",
        "    for row in tqdm(reader):\n",
        "        raw_sentences.extend(row[1].split(\"<::::>\"))\n",
        "print(\"Total Sentences: \", len(raw_sentences))"
      ],
      "execution_count": 6,
      "outputs": [
        {
          "output_type": "stream",
          "text": [
            "5000it [00:00, 143423.45it/s]"
          ],
          "name": "stderr"
        },
        {
          "output_type": "stream",
          "text": [
            "Total Sentences:  10000\n"
          ],
          "name": "stdout"
        },
        {
          "output_type": "stream",
          "text": [
            "\n"
          ],
          "name": "stderr"
        }
      ]
    },
    {
      "cell_type": "code",
      "metadata": {
        "id": "0C-5foj6pOAN",
        "colab_type": "code",
        "colab": {
          "base_uri": "https://localhost:8080/",
          "height": 74
        },
        "outputId": "3444974b-3729-4192-fa38-eb936cfcbc53"
      },
      "source": [
        "# Some samples\n",
        "print(raw_sentences[99], '\\n', raw_sentences[100])"
      ],
      "execution_count": 7,
      "outputs": [
        {
          "output_type": "stream",
          "text": [
            " He was was arrested and booked on charges of first - degree murder and first - degree robbery . \n",
            " A 2006 estimate by the International Organization for Migration put the number of Sudanese people in the UK at a much higher figure . \n"
          ],
          "name": "stdout"
        }
      ]
    },
    {
      "cell_type": "markdown",
      "metadata": {
        "id": "mIPqzykIkXxd",
        "colab_type": "text"
      },
      "source": [
        "#### Remove punctuations"
      ]
    },
    {
      "cell_type": "code",
      "metadata": {
        "id": "-HtS5z3MpOAe",
        "colab_type": "code",
        "colab": {
          "base_uri": "https://localhost:8080/",
          "height": 54
        },
        "outputId": "afbc587c-b5de-4b39-8867-fb3fbdababf7"
      },
      "source": [
        "# As we see there are lots of punctuations which we dont have in EMNIST, so we are going to remove them, \n",
        "# and replace multiple spaces with one\n",
        "import re\n",
        "\n",
        "sentences = []\n",
        "table = str.maketrans({key: None for key in string.punctuation})  # translation table\n",
        "\n",
        "for sentence in raw_sentences:\n",
        "    # remove punctuation and non-ascii characters\n",
        "    clean_sentence = re.sub('  +', ' ', sentence.translate(table)).\\\n",
        "                        encode(\"ascii\", 'ignore').decode()  \n",
        "    sentences.append(clean_sentence.strip())  # add to clean sentences\n",
        "    \n",
        "print(sentences[99], '\\n', raw_sentences[99])  # to verify"
      ],
      "execution_count": 9,
      "outputs": [
        {
          "output_type": "stream",
          "text": [
            "He was was arrested and booked on charges of first degree murder and first degree robbery \n",
            "  He was was arrested and booked on charges of first - degree murder and first - degree robbery .\n"
          ],
          "name": "stdout"
        }
      ]
    },
    {
      "cell_type": "code",
      "metadata": {
        "id": "4DxGdQ087p1V",
        "colab_type": "code",
        "colab": {
          "base_uri": "https://localhost:8080/",
          "height": 36
        },
        "outputId": "5ed22c37-f175-477b-fc8d-8ed6a5e74788"
      },
      "source": [
        "print('Number of sentences', len(sentences))"
      ],
      "execution_count": 11,
      "outputs": [
        {
          "output_type": "stream",
          "text": [
            "Number of sentences 10000\n"
          ],
          "name": "stdout"
        }
      ]
    },
    {
      "cell_type": "markdown",
      "metadata": {
        "id": "lwUb0KtemeK3",
        "colab_type": "text"
      },
      "source": [
        "#### EMNIST Labels"
      ]
    },
    {
      "cell_type": "code",
      "metadata": {
        "id": "oSXgQqsOEF38",
        "colab_type": "code",
        "colab": {
          "base_uri": "https://localhost:8080/",
          "height": 36
        },
        "outputId": "657202ad-6155-4b1f-f230-63311349ba37"
      },
      "source": [
        "MAPPINGS = ['0', '1', '2', '3', '4', '5', '6', '7', '8', '9', \n",
        "          'A', 'B', 'C', 'D', 'E', 'F', 'G', 'H', 'I', 'J', 'K', 'L', 'M', 'N', 'O', 'P', 'Q', 'R', 'S', 'T', 'U', 'V', 'W', 'X', 'Y', 'Z',\n",
        "          'a', 'b', 'd', 'e', 'f', 'g', 'h', 'n', 'q', 'r', 't']\n",
        "\n",
        "print(len(MAPPINGS))"
      ],
      "execution_count": 16,
      "outputs": [
        {
          "output_type": "stream",
          "text": [
            "47\n"
          ],
          "name": "stdout"
        }
      ]
    },
    {
      "cell_type": "markdown",
      "metadata": {
        "id": "USfu5WfonDPZ",
        "colab_type": "text"
      },
      "source": [
        "#### Dataloader for EMNIST"
      ]
    },
    {
      "cell_type": "code",
      "metadata": {
        "id": "WE7sVKVPEJzK",
        "colab_type": "code",
        "colab": {}
      },
      "source": [
        "AUTO = tf.data.experimental.AUTOTUNE\n",
        "BATCH_SIZE = 256\n",
        "\n",
        "## We are transposing to rotate the image by 90 deg clockwise making the images human friendly.\n",
        "def transpose(image, label):\n",
        "  image = tf.image.convert_image_dtype(image, dtype=tf.float32) # scale image pixels to [0,1]\n",
        "  image = tf.transpose(image, [1,0,2]) # transpose to get human friendly image, since rotation\n",
        "  return image, label\n",
        "\n",
        "trainloader = (\n",
        "    train_ds\n",
        "    .shuffle(1024)\n",
        "    .map(transpose, num_parallel_calls=AUTO)\n",
        "    .prefetch(AUTO)\n",
        ")"
      ],
      "execution_count": 13,
      "outputs": []
    },
    {
      "cell_type": "code",
      "metadata": {
        "id": "Exo6ceZ1EJv0",
        "colab_type": "code",
        "colab": {
          "base_uri": "https://localhost:8080/",
          "height": 591
        },
        "outputId": "5cc31bea-6ba4-43ef-bc4f-38a99c511001"
      },
      "source": [
        "plt.figure(figsize=(10, 10))\n",
        "n = 0\n",
        "for img, label in trainloader.take(25):\n",
        "    ax = plt.subplot(5, 5, n+1)\n",
        "    plt.imshow(tf.reshape(img, (28,28)), cmap='gray')\n",
        "    plt.title(MAPPINGS[int(label.numpy())])\n",
        "    plt.axis('off')\n",
        "    n+=1"
      ],
      "execution_count": 17,
      "outputs": [
        {
          "output_type": "display_data",
          "data": {
            "image/png": "[encoded data removed]",
            "text/plain": [
              "<Figure size 720x720 with 25 Axes>"
            ]
          },
          "metadata": {
            "tags": [],
            "needs_background": "light"
          }
        }
      ]
    },
    {
      "cell_type": "markdown",
      "metadata": {
        "id": "TiVoXehQnsOB",
        "colab_type": "text"
      },
      "source": [
        "#### Get all the images in an array"
      ]
    },
    {
      "cell_type": "code",
      "metadata": {
        "id": "3BZDQWDjRlXv",
        "colab_type": "code",
        "colab": {
          "base_uri": "https://localhost:8080/",
          "height": 36
        },
        "outputId": "ae780c8f-7031-45af-abd7-39874de2654a"
      },
      "source": [
        "IMAGES = []\n",
        "LABELS = []\n",
        "\n",
        "for img, label in tqdm(trainloader):\n",
        "    IMAGES.append(tf.reshape(img, (28,28)).numpy())\n",
        "    LABELS.append(label.numpy())\n",
        "\n",
        "IMAGES = np.array(IMAGES)\n",
        "LABELS = np.array(LABELS)"
      ],
      "execution_count": 18,
      "outputs": [
        {
          "output_type": "stream",
          "text": [
            "593242it [07:47, 1267.62it/s]\n"
          ],
          "name": "stderr"
        }
      ]
    },
    {
      "cell_type": "markdown",
      "metadata": {
        "id": "75WCj0tmqIwo",
        "colab_type": "text"
      },
      "source": [
        "#### Index Images"
      ]
    },
    {
      "cell_type": "code",
      "metadata": {
        "id": "Th2nVHDvVYiG",
        "colab_type": "code",
        "colab": {
          "base_uri": "https://localhost:8080/",
          "height": 36
        },
        "outputId": "3e73c910-cc81-4a6e-fe11-da082f752a98"
      },
      "source": [
        "image_index = {}  # where key is the char and value is a list of IDs\n",
        "for idx, label in tqdm(enumerate(LABELS)):\n",
        "    char = MAPPINGS[label]\n",
        "    if char in image_index:\n",
        "        # this character already exists\n",
        "        image_index[char].append(idx) # append index\n",
        "    else:\n",
        "        image_index[char] = [idx]  # initiate list with 1 item"
      ],
      "execution_count": 20,
      "outputs": [
        {
          "output_type": "stream",
          "text": [
            "593242it [00:00, 1580253.60it/s]\n"
          ],
          "name": "stderr"
        }
      ]
    },
    {
      "cell_type": "markdown",
      "metadata": {
        "id": "jMWtqzPdqbO_",
        "colab_type": "text"
      },
      "source": [
        "# Utils to generate image from text"
      ]
    },
    {
      "cell_type": "code",
      "metadata": {
        "id": "A0bAc0kPXf9j",
        "colab_type": "code",
        "colab": {}
      },
      "source": [
        "def get_sample_sentences(sentences_in=sentences, num_sentence=10):\n",
        "    # Get a defined number of sentences from the data\n",
        "    return np.random.choice(sentences_in, num_sentence)\n",
        "\n",
        "def get_generated_image(words, chars=IMAGES, index=image_index):\n",
        "    # words is string of char/numbers that needs to be converted into an image\n",
        "    # chars is a data set of images that need to be used to compose, usually pass in train['features'] in here\n",
        "    # index maps a character to indexes in the images, available as dictionary\n",
        "    height, width = IMAGES[0].shape # height and width of each character\n",
        "    length = len(words) # total number of characters in the image\n",
        "    \n",
        "    # create an empty array to store the data\n",
        "    image = np.zeros((height, width * length))\n",
        "    pos = 0  # starting index of the character\n",
        "    \n",
        "    for char in words:\n",
        "        if char is ' ':\n",
        "            pos += width # if space, move over\n",
        "        else:\n",
        "            if char in image_index:\n",
        "                # pick a random item from all images for that char\n",
        "                idx = np.random.choice(image_index[char])  \n",
        "                image[:, pos:(pos+width)] += chars[idx]\n",
        "            elif char.upper() in image_index:  # to remove characters from other languages\n",
        "                # for some characters, there is only upper case\n",
        "                idx = np.random.choice(image_index[char.upper()])  \n",
        "                image[:, pos:(pos+width)] += chars[idx]\n",
        "            \n",
        "            pos += width\n",
        "    \n",
        "    return image"
      ],
      "execution_count": 21,
      "outputs": []
    },
    {
      "cell_type": "markdown",
      "metadata": {
        "id": "ASm9g8-_qsFR",
        "colab_type": "text"
      },
      "source": [
        "#### Check one sample"
      ]
    },
    {
      "cell_type": "code",
      "metadata": {
        "id": "9buIC1YVX1g4",
        "colab_type": "code",
        "colab": {
          "base_uri": "https://localhost:8080/",
          "height": 96
        },
        "outputId": "31ee3d05-9ce8-48c2-b57a-8dc4121e8c98"
      },
      "source": [
        "# Let's print a sample to see how it looks\n",
        "s = get_sample_sentences(sentences, 1)\n",
        "print(s)\n",
        "img = get_generated_image(s[0])\n",
        "plt.figure(figsize=(9,2))\n",
        "plt.imshow(img, cmap='gray')\n",
        "plt.show()"
      ],
      "execution_count": 26,
      "outputs": [
        {
          "output_type": "stream",
          "text": [
            "['But it was also characterized as nothing more than an extension of his radio show with little more to offer']\n"
          ],
          "name": "stdout"
        },
        {
          "output_type": "display_data",
          "data": {
            "image/png": "[encoded data removed]",
            "text/plain": [
              "<Figure size 648x144 with 1 Axes>"
            ]
          },
          "metadata": {
            "tags": [],
            "needs_background": "light"
          }
        }
      ]
    },
    {
      "cell_type": "markdown",
      "metadata": {
        "id": "7EzTHffnrEo4",
        "colab_type": "text"
      },
      "source": [
        "# Build Training Dataset"
      ]
    },
    {
      "cell_type": "code",
      "metadata": {
        "id": "1IEJhTF3YEg4",
        "colab_type": "code",
        "colab": {}
      },
      "source": [
        "train_sentences = sentences[:2000]\n",
        "test_sentences = sentences[2000:2500]\n",
        "\n",
        "# Lets assume that for each training sample, 2 variants will be generated\n",
        "\n",
        "def generate_sentences(texts, chars, \n",
        "                           index, num_variants=2, max_length=32):\n",
        "    # this method takes input text lines, character samples and labels\n",
        "    # and generates images. It can generate multiple images per sentence\n",
        "    # as controlled by num_variants parameter. max_length parameter\n",
        "    # ensures that all sentences are the same length\n",
        "    \n",
        "    # total number of samples to generate\n",
        "    num_samples = len(texts) * num_variants\n",
        "    height, width = chars[0].shape  # shape of image\n",
        "    \n",
        "    # setup empty array of the images\n",
        "    images = np.zeros((num_samples, height, width * max_length), np.float64)\n",
        "    labels = []\n",
        "    \n",
        "    for i, item in tqdm(enumerate(texts)):\n",
        "        padded_item = item[0:max_length] if (len(item) > max_length) else item.ljust(max_length, ' ')\n",
        "        \n",
        "        for v in range(num_variants):\n",
        "            img = get_generated_image(padded_item, chars, index)\n",
        "            images[i*num_variants+v, :, :] += img\n",
        "            labels.append(padded_item)\n",
        "    \n",
        "    return images, labels"
      ],
      "execution_count": 27,
      "outputs": []
    },
    {
      "cell_type": "code",
      "metadata": {
        "id": "317adGptYcs5",
        "colab_type": "code",
        "colab": {
          "base_uri": "https://localhost:8080/",
          "height": 54
        },
        "outputId": "98127462-5617-43ab-cb37-ffdb74688dfc"
      },
      "source": [
        "train_images, train_labels = generate_sentences(train_sentences, IMAGES, image_index)\n",
        "test_images, test_labels = generate_sentences(test_sentences, IMAGES, image_index)"
      ],
      "execution_count": 28,
      "outputs": [
        {
          "output_type": "stream",
          "text": [
            "2000it [02:27, 13.53it/s]\n",
            "500it [00:37, 13.23it/s]\n"
          ],
          "name": "stderr"
        }
      ]
    },
    {
      "cell_type": "markdown",
      "metadata": {
        "colab_type": "text",
        "id": "jgEJHI4CsUvY"
      },
      "source": [
        "#### Check one sample"
      ]
    },
    {
      "cell_type": "code",
      "metadata": {
        "id": "FZvWNvk4Y1z_",
        "colab_type": "code",
        "colab": {
          "base_uri": "https://localhost:8080/",
          "height": 86
        },
        "outputId": "36666499-8832-4f4b-a4ae-f7dee772ac95"
      },
      "source": [
        "# Sample some to check\n",
        "idx=20\n",
        "print(train_labels[idx])\n",
        "plt.figure(figsize=(9,2))\n",
        "plt.imshow(train_images[idx], cmap='gray');\n",
        "plt.show()"
      ],
      "execution_count": 33,
      "outputs": [
        {
          "output_type": "stream",
          "text": [
            "Aerodynamic is an song by Daft P\n"
          ],
          "name": "stdout"
        },
        {
          "output_type": "display_data",
          "data": {
            "image/png": "[encoded data removed]",
            "text/plain": [
              "<Figure size 648x144 with 1 Axes>"
            ]
          },
          "metadata": {
            "tags": [],
            "needs_background": "light"
          }
        }
      ]
    },
    {
      "cell_type": "markdown",
      "metadata": {
        "id": "VmgFAVAFr_1u",
        "colab_type": "text"
      },
      "source": [
        "#### Save Dataset"
      ]
    },
    {
      "cell_type": "code",
      "metadata": {
        "id": "qiEyviXGa32C",
        "colab_type": "code",
        "colab": {}
      },
      "source": [
        "# Now to save these models for easy loading\n",
        "pp = pathlib.Path('.') / 'sentences'\n",
        "pp.mkdir(exist_ok=True)  # create the directory\n",
        "\n",
        "np.save(pp / 'train_images', train_images)\n",
        "np.save(pp / 'test_images', test_images)\n",
        "np.save(pp / 'train_labels', train_labels)\n",
        "np.save(pp / 'test_labels', test_labels)"
      ],
      "execution_count": 32,
      "outputs": []
    },
    {
      "cell_type": "markdown",
      "metadata": {
        "id": "j8kQvdfl-Ox1",
        "colab_type": "text"
      },
      "source": [
        "# Prepare Training Dataset(Label)"
      ]
    },
    {
      "cell_type": "code",
      "metadata": {
        "id": "qDw__t1Jlk-8",
        "colab_type": "code",
        "colab": {}
      },
      "source": [
        "# create a dictionary of mapping from \n",
        "mappings = dict(zip(np.arange(0,47), MAPPINGS))\n",
        "# add a space for spacing words\n",
        "mappings[47] = ' '\n",
        "# inverse: character as key and value as it's integer encoding\n",
        "inverse_mappings = {v: k for k, v in mappings.items()}"
      ],
      "execution_count": 81,
      "outputs": []
    },
    {
      "cell_type": "code",
      "metadata": {
        "id": "SxCE4CgilaPA",
        "colab_type": "code",
        "colab": {
          "base_uri": "https://localhost:8080/",
          "height": 112
        },
        "outputId": "b38ffcb1-23d9-44a7-ca61-4025f232cfb2"
      },
      "source": [
        "# now convert categorical labels from the sentences\n",
        "encode = lambda x: [inverse_mappings[xi] if xi in inverse_mappings else inverse_mappings[xi.upper()] for xi in x]\n",
        "decode = lambda x: [mappings[xi] for xi in x]\n",
        "\n",
        "train_labels_cat = np.array([encode(xi) for xi in train_labels])\n",
        "test_labels_cat = np.array([encode(xi) for xi in test_labels])\n",
        "\n",
        "# Verify the encoding/decoding\n",
        "print(train_labels[1])\n",
        "print(train_labels_cat.shape, train_labels_cat[1])\n",
        "print(decode(train_labels_cat[1]))"
      ],
      "execution_count": 82,
      "outputs": [
        {
          "output_type": "stream",
          "text": [
            "Bandolier Budgie a free iTunes a\n",
            "(4000, 32) [11 36 43 38 24 21 18 39 45 47 11 30 38 41 18 39 47 36 47 40 45 39 39 47\n",
            " 18 29 30 43 39 28 47 36]\n",
            "['B', 'a', 'n', 'd', 'O', 'L', 'I', 'e', 'r', ' ', 'B', 'U', 'd', 'g', 'I', 'e', ' ', 'a', ' ', 'f', 'r', 'e', 'e', ' ', 'I', 'T', 'U', 'n', 'e', 'S', ' ', 'a']\n"
          ],
          "name": "stdout"
        }
      ]
    },
    {
      "cell_type": "markdown",
      "metadata": {
        "id": "195rY50uPhrw",
        "colab_type": "text"
      },
      "source": [
        "# Build Train and Test Loader\n",
        "\n",
        "Using `tf.data`"
      ]
    },
    {
      "cell_type": "code",
      "metadata": {
        "id": "VKNx2nN4Pqcc",
        "colab_type": "code",
        "colab": {}
      },
      "source": [
        "AUTO = tf.data.experimental.AUTOTUNE\n",
        "BATCH_SIZE = 64\n",
        "\n",
        "# This step will make sense after looking at the model\n",
        "def merge_image_label(image, label):\n",
        "    return (image, label), label\n",
        "\n",
        "trainloader = tf.data.Dataset.from_tensor_slices((train_images, train_labels_cat))\n",
        "testloader = tf.data.Dataset.from_tensor_slices((test_images, test_labels_cat))\n",
        "\n",
        "trainloader = (\n",
        "    trainloader\n",
        "    .shuffle(1024)\n",
        "    .map(merge_image_label, num_parallel_calls=AUTO)\n",
        "    .batch(BATCH_SIZE)\n",
        "    .prefetch(AUTO)\n",
        ")\n",
        "\n",
        "testloader = (\n",
        "    testloader\n",
        "    .map(merge_image_label, num_parallel_calls=AUTO)\n",
        "    .batch(BATCH_SIZE)\n",
        "    .prefetch(AUTO)\n",
        ")"
      ],
      "execution_count": 120,
      "outputs": []
    },
    {
      "cell_type": "markdown",
      "metadata": {
        "id": "xg-LdXSDsbPs",
        "colab_type": "text"
      },
      "source": [
        "# Build Model"
      ]
    },
    {
      "cell_type": "code",
      "metadata": {
        "id": "5fdP1t6zuU73",
        "colab_type": "code",
        "colab": {}
      },
      "source": [
        "# CNN definition : LeNet5 architecture, a classic architecture\n",
        "IMG_H, IMG_W = train_images[1].shape\n",
        "# we limited output sentences to 32 chars\n",
        "OUTPUT_LENGTH = 32  \n",
        "# EMNIST has 47 labels, adding one for 'blank space'\n",
        "NUM_CLASSES = 48"
      ],
      "execution_count": 35,
      "outputs": []
    },
    {
      "cell_type": "markdown",
      "metadata": {
        "id": "XNeF-P0gsit7",
        "colab_type": "text"
      },
      "source": [
        "#### Utility to Extract Patch\n",
        "\n",
        "Since each image is a sentence, we will extract patches from it\n",
        "width of each patch will be 20 pixels wide (note EMNIST is 28 px)\n",
        "and every time we will move 14 px over to extract another sample"
      ]
    },
    {
      "cell_type": "code",
      "metadata": {
        "id": "YfI1fixxumPn",
        "colab_type": "code",
        "colab": {}
      },
      "source": [
        "PATCH_WIDTH = 20\n",
        "PATCH_STRIDE = 14"
      ],
      "execution_count": 36,
      "outputs": []
    },
    {
      "cell_type": "code",
      "metadata": {
        "id": "RExyW0Opi_g_",
        "colab_type": "code",
        "colab": {}
      },
      "source": [
        "def extract_patches(image):\n",
        "    kernel = [1, 1, PATCH_WIDTH, 1]\n",
        "    strides = [1, 1, PATCH_STRIDE, 1]\n",
        "    patches = tf.image.extract_patches(image, kernel, strides, [1, 1, 1, 1], 'VALID')\n",
        "    patches = tf.transpose(patches, (0, 2, 1, 3))\n",
        "    patches = tf.expand_dims(patches, -1)\n",
        "    return patches"
      ],
      "execution_count": 78,
      "outputs": []
    },
    {
      "cell_type": "markdown",
      "metadata": {
        "id": "wmjDDWLfHWyJ",
        "colab_type": "text"
      },
      "source": [
        "#### CNN backbone\n",
        "\n",
        "* Takes in a patch of image\n",
        "* Returned flattened embedding"
      ]
    },
    {
      "cell_type": "code",
      "metadata": {
        "id": "Ra0ehhwMG3FF",
        "colab_type": "code",
        "colab": {
          "base_uri": "https://localhost:8080/",
          "height": 391
        },
        "outputId": "b29e5932-2221-42d6-9dbe-3e0872a43231"
      },
      "source": [
        "def ImagePatchEncoder():\n",
        "  patched_inputs = Input(shape=(IMG_H, PATCH_WIDTH, 1))\n",
        "  x = Conv2D(32, kernel_size=(3, 3), activation='relu')(patched_inputs)\n",
        "  x = Conv2D(64, kernel_size=(3, 3), activation='relu')(x)\n",
        "  x = MaxPooling2D(pool_size=(2, 2))(x)\n",
        "  x = Dropout(0.2)(x)\n",
        "  flattened_outputs = Flatten()(x)\n",
        "\n",
        "  return Model(inputs=patched_inputs, outputs=flattened_outputs, name='backbone')\n",
        "\n",
        "tf.keras.backend.clear_session()\n",
        "image_patch_encoder = ImagePatchEncoder()\n",
        "image_patch_encoder.summary()"
      ],
      "execution_count": 91,
      "outputs": [
        {
          "output_type": "stream",
          "text": [
            "Model: \"backbone\"\n",
            "_________________________________________________________________\n",
            "Layer (type)                 Output Shape              Param #   \n",
            "=================================================================\n",
            "input_1 (InputLayer)         [(None, 28, 20, 1)]       0         \n",
            "_________________________________________________________________\n",
            "conv2d (Conv2D)              (None, 26, 18, 32)        320       \n",
            "_________________________________________________________________\n",
            "conv2d_1 (Conv2D)            (None, 24, 16, 64)        18496     \n",
            "_________________________________________________________________\n",
            "max_pooling2d (MaxPooling2D) (None, 12, 8, 64)         0         \n",
            "_________________________________________________________________\n",
            "dropout (Dropout)            (None, 12, 8, 64)         0         \n",
            "_________________________________________________________________\n",
            "flatten (Flatten)            (None, 6144)              0         \n",
            "=================================================================\n",
            "Total params: 18,816\n",
            "Trainable params: 18,816\n",
            "Non-trainable params: 0\n",
            "_________________________________________________________________\n"
          ],
          "name": "stdout"
        }
      ]
    },
    {
      "cell_type": "markdown",
      "metadata": {
        "id": "ezbWeXARO_C0",
        "colab_type": "text"
      },
      "source": [
        "#### CTC Loss Layer\n",
        "\n",
        "You can learn more about CTC Loss in this [awesome blog post](https://app.wandb.ai/authors/text-recognition-crnn-ctc/reports/Text-Recognition-with-CRNN-CTC-Network--VmlldzoxNTI5NDI)."
      ]
    },
    {
      "cell_type": "code",
      "metadata": {
        "id": "MzyiMxNoH_vt",
        "colab_type": "code",
        "colab": {}
      },
      "source": [
        "## Ref: https://keras.io/examples/vision/captcha_ocr/\n",
        "class CTCLayer(Layer):\n",
        "  def __init__(self, name=None):\n",
        "\n",
        "      super().__init__(name=name)\n",
        "      self.loss_fn = tf.keras.backend.ctc_batch_cost\n",
        "\n",
        "  def call(self, y_true, y_pred):\n",
        "      # Compute the training-time loss value and add it\n",
        "      # to the layer using `self.add_loss()`.\n",
        "\n",
        "      batch_len = tf.cast(tf.shape(y_true)[0], dtype=\"int64\")\n",
        "      input_length = tf.cast(tf.shape(y_pred)[1], dtype=\"int64\")\n",
        "      label_length = tf.cast(tf.shape(y_true)[1], dtype=\"int64\")\n",
        "\n",
        "      input_length = input_length * tf.ones(shape=(batch_len, 1), dtype=\"int64\")\n",
        "      label_length = label_length * tf.ones(shape=(batch_len, 1), dtype=\"int64\")\n",
        "\n",
        "      loss = self.loss_fn(y_true, y_pred, input_length, label_length)\n",
        "      self.add_loss(loss)\n",
        "\n",
        "      # At test time, just return the computed predictions\n",
        "      return y_pred\n",
        "      "
      ],
      "execution_count": 100,
      "outputs": []
    },
    {
      "cell_type": "markdown",
      "metadata": {
        "id": "Uun36GxI9G6V",
        "colab_type": "text"
      },
      "source": [
        "#### Final Model\n",
        "\n",
        "##### Image Encoder\n",
        "\n",
        "* Take in image input\n",
        "* Get patches of shape `(PATCH_HEIGHT, PATCH_WIDTH, 1)`.\n",
        "* Feed patches to backbone CNN architecture to get embedding. \n",
        "* Wrap using `TimeDistributed`\n",
        "\n",
        "\n",
        "##### Recurrent Network\n",
        "\n",
        "* Takes in `TimeDistributed` sequence\n",
        "* Computes output"
      ]
    },
    {
      "cell_type": "code",
      "metadata": {
        "id": "2tJu9Yn5NNIt",
        "colab_type": "code",
        "colab": {}
      },
      "source": [
        "def ImagetoSequence():\n",
        "  # IMAGE ENCODER #\n",
        "  labels = Input(name=\"label\", shape=(None,), dtype=\"float32\")\n",
        "  image_input = Input(shape=(IMG_H, IMG_W), name=\"cnn_input\")\n",
        "  # reshape to add dimensions\n",
        "  image_reshaped = Reshape((IMG_H, IMG_W, 1))(image_input)\n",
        "  # extract patches of images\n",
        "  image_patches = Lambda(extract_patches)(image_reshaped)\n",
        "  # get CNN backbone architecture to get embedding for each patch\n",
        "  image_patch_encoder = ImagePatchEncoder()\n",
        "  # Wrapper allows to apply a layer to every temporal slice of an input.\n",
        "  time_wrapper = TimeDistributed(image_patch_encoder)(image_patches)\n",
        "\n",
        "  # RECURRENT NETWORK #\n",
        "  lstm_out = LSTM(128, return_sequences=True, name=\"lstm\")(time_wrapper)\n",
        "  softmax_output = Dense(49, activation='softmax', name=\"lstm_softmax\")(lstm_out)\n",
        "\n",
        "  output = CTCLayer(name=\"ctc_loss\")(labels, softmax_output)\n",
        "\n",
        "  return Model([image_input, labels], output)"
      ],
      "execution_count": null,
      "outputs": []
    },
    {
      "cell_type": "markdown",
      "metadata": {
        "id": "AFEYPgl3Qihf",
        "colab_type": "text"
      },
      "source": [
        "# Initialize Model"
      ]
    },
    {
      "cell_type": "code",
      "metadata": {
        "id": "WFnnEeoKIrYC",
        "colab_type": "code",
        "colab": {
          "base_uri": "https://localhost:8080/",
          "height": 485
        },
        "outputId": "90d58379-3424-415b-ed90-507cb9fb16eb"
      },
      "source": [
        "tf.keras.backend.clear_session()\n",
        "model = ImagetoSequenceDecoder()\n",
        "model.summary()"
      ],
      "execution_count": 124,
      "outputs": [
        {
          "output_type": "stream",
          "text": [
            "Model: \"functional_1\"\n",
            "__________________________________________________________________________________________________\n",
            "Layer (type)                    Output Shape         Param #     Connected to                     \n",
            "==================================================================================================\n",
            "cnn_input (InputLayer)          [(None, 28, 896)]    0                                            \n",
            "__________________________________________________________________________________________________\n",
            "reshape (Reshape)               (None, 28, 896, 1)   0           cnn_input[0][0]                  \n",
            "__________________________________________________________________________________________________\n",
            "lambda (Lambda)                 (None, 63, 28, 20, 1 0           reshape[0][0]                    \n",
            "__________________________________________________________________________________________________\n",
            "time_distributed (TimeDistribut (None, 63, 6144)     18816       lambda[0][0]                     \n",
            "__________________________________________________________________________________________________\n",
            "lstm (LSTM)                     (None, 63, 128)      3211776     time_distributed[0][0]           \n",
            "__________________________________________________________________________________________________\n",
            "label (InputLayer)              [(None, None)]       0                                            \n",
            "__________________________________________________________________________________________________\n",
            "lstm_softmax (Dense)            (None, 63, 49)       6321        lstm[0][0]                       \n",
            "__________________________________________________________________________________________________\n",
            "ctc_loss (CTCLayer)             (None, 63, 49)       0           label[0][0]                      \n",
            "                                                                 lstm_softmax[0][0]               \n",
            "==================================================================================================\n",
            "Total params: 3,236,913\n",
            "Trainable params: 3,236,913\n",
            "Non-trainable params: 0\n",
            "__________________________________________________________________________________________________\n"
          ],
          "name": "stdout"
        }
      ]
    },
    {
      "cell_type": "markdown",
      "metadata": {
        "id": "asdJgVutPOsD",
        "colab_type": "text"
      },
      "source": [
        "# Compile Model"
      ]
    },
    {
      "cell_type": "code",
      "metadata": {
        "id": "LAuhDm8jm-Vg",
        "colab_type": "code",
        "colab": {}
      },
      "source": [
        "# compile the models\n",
        "model.compile(tf.keras.optimizers.Adam())"
      ],
      "execution_count": 125,
      "outputs": []
    },
    {
      "cell_type": "markdown",
      "metadata": {
        "id": "QeR-dUwePUEf",
        "colab_type": "text"
      },
      "source": [
        "# Train Model"
      ]
    },
    {
      "cell_type": "code",
      "metadata": {
        "id": "u4mQQ7i5nRU5",
        "colab_type": "code",
        "colab": {
          "base_uri": "https://localhost:8080/",
          "height": 204
        },
        "outputId": "d9755dab-a3ec-46cb-d85f-9bd0bddce3f5"
      },
      "source": [
        "history = model.fit(trainloader, validation_data=testloader,\n",
        "                    epochs=5)"
      ],
      "execution_count": 126,
      "outputs": [
        {
          "output_type": "stream",
          "text": [
            "Epoch 1/5\n",
            "63/63 [==============================] - 8s 134ms/step - loss: 99.0740 - val_loss: 74.8022\n",
            "Epoch 2/5\n",
            "63/63 [==============================] - 8s 123ms/step - loss: 48.9253 - val_loss: 35.9661\n",
            "Epoch 3/5\n",
            "63/63 [==============================] - 8s 123ms/step - loss: 28.3646 - val_loss: 24.9053\n",
            "Epoch 4/5\n",
            "63/63 [==============================] - 8s 122ms/step - loss: 20.3608 - val_loss: 19.6815\n",
            "Epoch 5/5\n",
            "63/63 [==============================] - 8s 123ms/step - loss: 16.4373 - val_loss: 16.8970\n"
          ],
          "name": "stdout"
        }
      ]
    }
  ]
}